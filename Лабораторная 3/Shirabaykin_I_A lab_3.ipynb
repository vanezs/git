{
  "nbformat": 4,
  "nbformat_minor": 0,
  "metadata": {
    "colab": {
      "provenance": []
    },
    "kernelspec": {
      "name": "python3",
      "display_name": "Python 3"
    },
    "language_info": {
      "name": "python"
    }
  },
  "cells": [
    {
      "cell_type": "markdown",
      "source": [
        "Импорт необходимых библиотек:"
      ],
      "metadata": {
        "id": "3C8XYKiFzk1n"
      }
    },
    {
      "cell_type": "code",
      "execution_count": null,
      "metadata": {
        "id": "Y0xeOd_wyOaM"
      },
      "outputs": [],
      "source": [
        "from tensorflow.keras.datasets import fashion_mnist\n",
        "from tensorflow.keras.models import Sequential\n",
        "from tensorflow.keras.layers import Dense\n",
        "from tensorflow.keras.utils import to_categorical"
      ]
    },
    {
      "cell_type": "markdown",
      "source": [
        "Загружаем данные:"
      ],
      "metadata": {
        "id": "x7j3j1ro1QJW"
      }
    },
    {
      "cell_type": "code",
      "source": [
        "(x_train, y_train), (x_test, y_test) = fashion_mnist.load_data()"
      ],
      "metadata": {
        "colab": {
          "base_uri": "https://localhost:8080/"
        },
        "id": "udCZVdrLzfEr",
        "outputId": "75e9e63e-576f-4225-fc76-1b77dddb13e5"
      },
      "execution_count": null,
      "outputs": [
        {
          "output_type": "stream",
          "name": "stdout",
          "text": [
            "Downloading data from https://storage.googleapis.com/tensorflow/tf-keras-datasets/train-labels-idx1-ubyte.gz\n",
            "\u001b[1m29515/29515\u001b[0m \u001b[32m━━━━━━━━━━━━━━━━━━━━\u001b[0m\u001b[37m\u001b[0m \u001b[1m0s\u001b[0m 0us/step\n",
            "Downloading data from https://storage.googleapis.com/tensorflow/tf-keras-datasets/train-images-idx3-ubyte.gz\n",
            "\u001b[1m26421880/26421880\u001b[0m \u001b[32m━━━━━━━━━━━━━━━━━━━━\u001b[0m\u001b[37m\u001b[0m \u001b[1m0s\u001b[0m 0us/step\n",
            "Downloading data from https://storage.googleapis.com/tensorflow/tf-keras-datasets/t10k-labels-idx1-ubyte.gz\n",
            "\u001b[1m5148/5148\u001b[0m \u001b[32m━━━━━━━━━━━━━━━━━━━━\u001b[0m\u001b[37m\u001b[0m \u001b[1m0s\u001b[0m 0us/step\n",
            "Downloading data from https://storage.googleapis.com/tensorflow/tf-keras-datasets/t10k-images-idx3-ubyte.gz\n",
            "\u001b[1m4422102/4422102\u001b[0m \u001b[32m━━━━━━━━━━━━━━━━━━━━\u001b[0m\u001b[37m\u001b[0m \u001b[1m0s\u001b[0m 0us/step\n"
          ]
        }
      ]
    },
    {
      "cell_type": "markdown",
      "source": [
        "Изображения имеют размер 28x28 и, следовательно, является\n",
        "двухмерными. Поскольку наш персептрон способен считывать только\n",
        "одномерные данные, преобразуем их"
      ],
      "metadata": {
        "id": "_ajx4PwkzpU7"
      }
    },
    {
      "cell_type": "code",
      "source": [
        "x_train = x_train.reshape(x_train.shape[0], -1) / 255.0\n",
        "x_test = x_test.reshape(x_test.shape[0], -1) / 255.0\n",
        "y_train = to_categorical(y_train)\n",
        "y_test = to_categorical(y_test)"
      ],
      "metadata": {
        "id": "R6RMO-zrzhQo"
      },
      "execution_count": null,
      "outputs": []
    },
    {
      "cell_type": "markdown",
      "source": [
        "Опишем архитектуру сети:"
      ],
      "metadata": {
        "id": "kWGP8M11zq-e"
      }
    },
    {
      "cell_type": "code",
      "source": [
        "model = Sequential()\n",
        "model.add(Dense(10, input_dim=784, activation='relu'))\n",
        "model.add(Dense(10, activation='softmax'))\n",
        "model.compile(loss='categorical_crossentropy', optimizer='adam',\n",
        "metrics=['accuracy'])"
      ],
      "metadata": {
        "colab": {
          "base_uri": "https://localhost:8080/"
        },
        "id": "UDJMaIpgztRB",
        "outputId": "8a5b670f-b56e-437a-83bd-9617f9e41e3a"
      },
      "execution_count": null,
      "outputs": [
        {
          "output_type": "stream",
          "name": "stderr",
          "text": [
            "/usr/local/lib/python3.11/dist-packages/keras/src/layers/core/dense.py:87: UserWarning: Do not pass an `input_shape`/`input_dim` argument to a layer. When using Sequential models, prefer using an `Input(shape)` object as the first layer in the model instead.\n",
            "  super().__init__(activity_regularizer=activity_regularizer, **kwargs)\n"
          ]
        }
      ]
    },
    {
      "cell_type": "markdown",
      "source": [
        "Начнем обучение:\n"
      ],
      "metadata": {
        "id": "BcAPlA83ztqj"
      }
    },
    {
      "cell_type": "code",
      "source": [
        "model.fit(x_train, y_train, epochs=10, validation_split=0.1)"
      ],
      "metadata": {
        "colab": {
          "base_uri": "https://localhost:8080/"
        },
        "id": "XcuCX61Hzvfx",
        "outputId": "5c0e0bcb-a55c-4111-b62e-429a65f38565"
      },
      "execution_count": null,
      "outputs": [
        {
          "output_type": "stream",
          "name": "stdout",
          "text": [
            "Epoch 1/10\n",
            "\u001b[1m1688/1688\u001b[0m \u001b[32m━━━━━━━━━━━━━━━━━━━━\u001b[0m\u001b[37m\u001b[0m \u001b[1m6s\u001b[0m 3ms/step - accuracy: 0.6913 - loss: 0.9428 - val_accuracy: 0.8260 - val_loss: 0.4936\n",
            "Epoch 2/10\n",
            "\u001b[1m1688/1688\u001b[0m \u001b[32m━━━━━━━━━━━━━━━━━━━━\u001b[0m\u001b[37m\u001b[0m \u001b[1m3s\u001b[0m 2ms/step - accuracy: 0.8327 - loss: 0.4844 - val_accuracy: 0.8340 - val_loss: 0.4789\n",
            "Epoch 3/10\n",
            "\u001b[1m1688/1688\u001b[0m \u001b[32m━━━━━━━━━━━━━━━━━━━━\u001b[0m\u001b[37m\u001b[0m \u001b[1m3s\u001b[0m 2ms/step - accuracy: 0.8469 - loss: 0.4330 - val_accuracy: 0.8473 - val_loss: 0.4413\n",
            "Epoch 4/10\n",
            "\u001b[1m1688/1688\u001b[0m \u001b[32m━━━━━━━━━━━━━━━━━━━━\u001b[0m\u001b[37m\u001b[0m \u001b[1m6s\u001b[0m 3ms/step - accuracy: 0.8518 - loss: 0.4262 - val_accuracy: 0.8510 - val_loss: 0.4235\n",
            "Epoch 5/10\n",
            "\u001b[1m1688/1688\u001b[0m \u001b[32m━━━━━━━━━━━━━━━━━━━━\u001b[0m\u001b[37m\u001b[0m \u001b[1m3s\u001b[0m 2ms/step - accuracy: 0.8562 - loss: 0.4152 - val_accuracy: 0.8495 - val_loss: 0.4371\n",
            "Epoch 6/10\n",
            "\u001b[1m1688/1688\u001b[0m \u001b[32m━━━━━━━━━━━━━━━━━━━━\u001b[0m\u001b[37m\u001b[0m \u001b[1m5s\u001b[0m 2ms/step - accuracy: 0.8583 - loss: 0.4057 - val_accuracy: 0.8538 - val_loss: 0.4185\n",
            "Epoch 7/10\n",
            "\u001b[1m1688/1688\u001b[0m \u001b[32m━━━━━━━━━━━━━━━━━━━━\u001b[0m\u001b[37m\u001b[0m \u001b[1m6s\u001b[0m 2ms/step - accuracy: 0.8598 - loss: 0.3954 - val_accuracy: 0.8600 - val_loss: 0.4081\n",
            "Epoch 8/10\n",
            "\u001b[1m1688/1688\u001b[0m \u001b[32m━━━━━━━━━━━━━━━━━━━━\u001b[0m\u001b[37m\u001b[0m \u001b[1m3s\u001b[0m 2ms/step - accuracy: 0.8650 - loss: 0.3901 - val_accuracy: 0.8572 - val_loss: 0.4122\n",
            "Epoch 9/10\n",
            "\u001b[1m1688/1688\u001b[0m \u001b[32m━━━━━━━━━━━━━━━━━━━━\u001b[0m\u001b[37m\u001b[0m \u001b[1m6s\u001b[0m 2ms/step - accuracy: 0.8629 - loss: 0.3900 - val_accuracy: 0.8582 - val_loss: 0.4064\n",
            "Epoch 10/10\n",
            "\u001b[1m1688/1688\u001b[0m \u001b[32m━━━━━━━━━━━━━━━━━━━━\u001b[0m\u001b[37m\u001b[0m \u001b[1m4s\u001b[0m 2ms/step - accuracy: 0.8677 - loss: 0.3775 - val_accuracy: 0.8588 - val_loss: 0.3988\n"
          ]
        },
        {
          "output_type": "execute_result",
          "data": {
            "text/plain": [
              "<keras.src.callbacks.history.History at 0x78089f7311d0>"
            ]
          },
          "metadata": {},
          "execution_count": 5
        }
      ]
    },
    {
      "cell_type": "markdown",
      "source": [
        "Проанализируйте результат на проверочных и тестовых данных.\n"
      ],
      "metadata": {
        "id": "olfPRI-Oz04n"
      }
    },
    {
      "cell_type": "code",
      "source": [
        "test_acc = model.evaluate(x_test, y_test)\n",
        "print(test_acc)"
      ],
      "metadata": {
        "colab": {
          "base_uri": "https://localhost:8080/"
        },
        "id": "EkSRNgeRz293",
        "outputId": "44179da3-fb4c-4cca-a6bd-9cdc8dd9d5a3"
      },
      "execution_count": null,
      "outputs": [
        {
          "output_type": "stream",
          "name": "stdout",
          "text": [
            "\u001b[1m313/313\u001b[0m \u001b[32m━━━━━━━━━━━━━━━━━━━━\u001b[0m\u001b[37m\u001b[0m \u001b[1m1s\u001b[0m 2ms/step - accuracy: 0.8509 - loss: 0.4246\n",
            "[0.4316307008266449, 0.8482999801635742]\n"
          ]
        }
      ]
    },
    {
      "cell_type": "markdown",
      "source": [
        "Результаты, полученные при оценке модели на тестовых данных, включают два основных показателя:\n",
        "\n",
        "Loss (функция потерь): 0.4316307008266449\n",
        "Accuracy (точность): 0.8483 или 84.83%\n",
        "Анализ результатов\n",
        "Точность (Accuracy)\n",
        "Точность модели на тестовом наборе данных составляет 84.83%. Это означает, что модель правильно классифицирует около 85% изображений из тестового набора. Для задачи классификации одежды, которая включает 10 различных классов, такой уровень точности можно считать достаточно хорошим, особенно учитывая простоту модели (только два полносвязных слоя).\n",
        "\n",
        "**Функция потерь (Loss)**\n",
        "Значение функции потерь на тестовом наборе данных равно примерно 0.43. Функция потерь категориальной кросс-энтропии измеряет разницу между предсказанными вероятностями и истинными метками классов. Меньшее значение функции потерь указывает на лучшее соответствие модели данным. Значение 0.43 может указывать на то, что модель всё ещё испытывает некоторые трудности в точной классификации всех изображений, но в целом она справляется с задачей."
      ],
      "metadata": {
        "id": "2Wtre8aU66Fl"
      }
    },
    {
      "cell_type": "markdown",
      "source": [
        "Опишем архитектуру сети 2:"
      ],
      "metadata": {
        "id": "hEHp0TO9z5Pe"
      }
    },
    {
      "cell_type": "code",
      "source": [
        "model2 = Sequential()\n",
        "model2.add(Dense( 50, input_dim=784, activation='relu'))\n",
        "model2.add(Dense(10, activation='softmax'))\n",
        "model2.compile(loss='categorical_crossentropy', optimizer='adam',\n",
        "metrics=['accuracy'])\n",
        "model2.fit(x_train, y_train, epochs=10, validation_split=0.1)"
      ],
      "metadata": {
        "colab": {
          "base_uri": "https://localhost:8080/"
        },
        "id": "tjUDHW8zz6qB",
        "outputId": "f89f4c89-63a6-4ec6-81d3-cb656ddb1074"
      },
      "execution_count": null,
      "outputs": [
        {
          "output_type": "stream",
          "name": "stdout",
          "text": [
            "Epoch 1/10\n",
            "\u001b[1m1688/1688\u001b[0m \u001b[32m━━━━━━━━━━━━━━━━━━━━\u001b[0m\u001b[37m\u001b[0m \u001b[1m5s\u001b[0m 2ms/step - accuracy: 0.7636 - loss: 0.6895 - val_accuracy: 0.8397 - val_loss: 0.4545\n",
            "Epoch 2/10\n",
            "\u001b[1m1688/1688\u001b[0m \u001b[32m━━━━━━━━━━━━━━━━━━━━\u001b[0m\u001b[37m\u001b[0m \u001b[1m5s\u001b[0m 3ms/step - accuracy: 0.8538 - loss: 0.4128 - val_accuracy: 0.8605 - val_loss: 0.3843\n",
            "Epoch 3/10\n",
            "\u001b[1m1688/1688\u001b[0m \u001b[32m━━━━━━━━━━━━━━━━━━━━\u001b[0m\u001b[37m\u001b[0m \u001b[1m4s\u001b[0m 2ms/step - accuracy: 0.8691 - loss: 0.3710 - val_accuracy: 0.8645 - val_loss: 0.3711\n",
            "Epoch 4/10\n",
            "\u001b[1m1688/1688\u001b[0m \u001b[32m━━━━━━━━━━━━━━━━━━━━\u001b[0m\u001b[37m\u001b[0m \u001b[1m4s\u001b[0m 2ms/step - accuracy: 0.8738 - loss: 0.3438 - val_accuracy: 0.8648 - val_loss: 0.3727\n",
            "Epoch 5/10\n",
            "\u001b[1m1688/1688\u001b[0m \u001b[32m━━━━━━━━━━━━━━━━━━━━\u001b[0m\u001b[37m\u001b[0m \u001b[1m6s\u001b[0m 3ms/step - accuracy: 0.8821 - loss: 0.3221 - val_accuracy: 0.8720 - val_loss: 0.3566\n",
            "Epoch 6/10\n",
            "\u001b[1m1688/1688\u001b[0m \u001b[32m━━━━━━━━━━━━━━━━━━━━\u001b[0m\u001b[37m\u001b[0m \u001b[1m9s\u001b[0m 3ms/step - accuracy: 0.8857 - loss: 0.3132 - val_accuracy: 0.8763 - val_loss: 0.3440\n",
            "Epoch 7/10\n",
            "\u001b[1m1688/1688\u001b[0m \u001b[32m━━━━━━━━━━━━━━━━━━━━\u001b[0m\u001b[37m\u001b[0m \u001b[1m5s\u001b[0m 2ms/step - accuracy: 0.8925 - loss: 0.2952 - val_accuracy: 0.8715 - val_loss: 0.3452\n",
            "Epoch 8/10\n",
            "\u001b[1m1688/1688\u001b[0m \u001b[32m━━━━━━━━━━━━━━━━━━━━\u001b[0m\u001b[37m\u001b[0m \u001b[1m5s\u001b[0m 2ms/step - accuracy: 0.8950 - loss: 0.2880 - val_accuracy: 0.8812 - val_loss: 0.3236\n",
            "Epoch 9/10\n",
            "\u001b[1m1688/1688\u001b[0m \u001b[32m━━━━━━━━━━━━━━━━━━━━\u001b[0m\u001b[37m\u001b[0m \u001b[1m5s\u001b[0m 3ms/step - accuracy: 0.8984 - loss: 0.2750 - val_accuracy: 0.8817 - val_loss: 0.3296\n",
            "Epoch 10/10\n",
            "\u001b[1m1688/1688\u001b[0m \u001b[32m━━━━━━━━━━━━━━━━━━━━\u001b[0m\u001b[37m\u001b[0m \u001b[1m5s\u001b[0m 2ms/step - accuracy: 0.8983 - loss: 0.2744 - val_accuracy: 0.8842 - val_loss: 0.3370\n"
          ]
        },
        {
          "output_type": "execute_result",
          "data": {
            "text/plain": [
              "<keras.src.callbacks.history.History at 0x78089e697d90>"
            ]
          },
          "metadata": {},
          "execution_count": 9
        }
      ]
    },
    {
      "cell_type": "code",
      "source": [
        "test_acc = model2.evaluate(x_test, y_test)\n",
        "print(test_acc)"
      ],
      "metadata": {
        "colab": {
          "base_uri": "https://localhost:8080/"
        },
        "id": "D6Z0CTVm149N",
        "outputId": "84646bdf-9377-4268-8880-e5e4e18eebb6"
      },
      "execution_count": null,
      "outputs": [
        {
          "output_type": "stream",
          "name": "stdout",
          "text": [
            "\u001b[1m313/313\u001b[0m \u001b[32m━━━━━━━━━━━━━━━━━━━━\u001b[0m\u001b[37m\u001b[0m \u001b[1m1s\u001b[0m 2ms/step - accuracy: 0.8716 - loss: 0.3629\n",
            "[0.3635515570640564, 0.8715000152587891]\n"
          ]
        }
      ]
    },
    {
      "cell_type": "markdown",
      "source": [
        "Проанализируйте результат на проверочных и тестовых данных."
      ],
      "metadata": {
        "id": "wnEjh-mIz8g3"
      }
    },
    {
      "cell_type": "markdown",
      "source": [
        "Результаты оценки второй модели на тестовых данных включают два основных показателя:\n",
        "\n",
        "Loss (функция потерь): 0.3635515570640564\n",
        "Accuracy (точность): 0.8715 или 87.15%\n",
        "Анализ результатов\n",
        "Точность (Accuracy)\n",
        "Точность модели на тестовом наборе данных составляет 87.15%. Это означает, что модель правильно классифицирует около 87% изображений из тестового набора. По сравнению с первой моделью, это значительное улучшение. Такой уровень точности является высоким для задачи классификации одежды с 10 классами.\n",
        "\n",
        "**Функция потерь (Loss)**\n",
        "Значение функции потерь на тестовом наборе данных равно примерно 0.36. Это значение ниже, чем у первой модели, что указывает на лучшее соответствие модели данным. Меньшее значение функции потерь означает, что предсказания модели более близки к истинным меткам классов.\n",
        "\n",
        "**Сравнение с первой моделью**\n",
        "Вторая модель показывает улучшение по сравнению с первой моделью как по точности, так и по функции потерь. Увеличение количества нейронов в первом полносвязном слое с 10 до 50 позволило модели лучше обучаться на данных и улучшить результаты."
      ],
      "metadata": {
        "id": "kR6Mx8XD7QF-"
      }
    },
    {
      "cell_type": "markdown",
      "source": [
        "Опишем архитектуру сети 3:"
      ],
      "metadata": {
        "id": "mg83NYUc0AVt"
      }
    },
    {
      "cell_type": "code",
      "source": [
        "model3 = Sequential()\n",
        "model3.add(Dense(50, input_dim=784, activation='relu'))\n",
        "model3.add(Dense(50, activation='relu'))\n",
        "model3.add(Dense(10, activation='softmax'))\n",
        "model3.compile(loss='categorical_crossentropy', optimizer='adam',\n",
        "metrics=['accuracy'])\n",
        "model3.fit(x_train, y_train, epochs=10, validation_split=0.1)"
      ],
      "metadata": {
        "colab": {
          "base_uri": "https://localhost:8080/"
        },
        "id": "j3TY60-90BSy",
        "outputId": "fdc14621-a39d-40d1-d497-f9276e0435c2"
      },
      "execution_count": null,
      "outputs": [
        {
          "output_type": "stream",
          "name": "stdout",
          "text": [
            "Epoch 1/10\n",
            "\u001b[1m1688/1688\u001b[0m \u001b[32m━━━━━━━━━━━━━━━━━━━━\u001b[0m\u001b[37m\u001b[0m \u001b[1m5s\u001b[0m 3ms/step - accuracy: 0.7557 - loss: 0.7098 - val_accuracy: 0.8497 - val_loss: 0.4268\n",
            "Epoch 2/10\n",
            "\u001b[1m1688/1688\u001b[0m \u001b[32m━━━━━━━━━━━━━━━━━━━━\u001b[0m\u001b[37m\u001b[0m \u001b[1m5s\u001b[0m 2ms/step - accuracy: 0.8532 - loss: 0.4025 - val_accuracy: 0.8553 - val_loss: 0.3932\n",
            "Epoch 3/10\n",
            "\u001b[1m1688/1688\u001b[0m \u001b[32m━━━━━━━━━━━━━━━━━━━━\u001b[0m\u001b[37m\u001b[0m \u001b[1m4s\u001b[0m 3ms/step - accuracy: 0.8727 - loss: 0.3515 - val_accuracy: 0.8632 - val_loss: 0.3648\n",
            "Epoch 4/10\n",
            "\u001b[1m1688/1688\u001b[0m \u001b[32m━━━━━━━━━━━━━━━━━━━━\u001b[0m\u001b[37m\u001b[0m \u001b[1m4s\u001b[0m 2ms/step - accuracy: 0.8762 - loss: 0.3359 - val_accuracy: 0.8698 - val_loss: 0.3601\n",
            "Epoch 5/10\n",
            "\u001b[1m1688/1688\u001b[0m \u001b[32m━━━━━━━━━━━━━━━━━━━━\u001b[0m\u001b[37m\u001b[0m \u001b[1m6s\u001b[0m 3ms/step - accuracy: 0.8841 - loss: 0.3117 - val_accuracy: 0.8725 - val_loss: 0.3568\n",
            "Epoch 6/10\n",
            "\u001b[1m1688/1688\u001b[0m \u001b[32m━━━━━━━━━━━━━━━━━━━━\u001b[0m\u001b[37m\u001b[0m \u001b[1m4s\u001b[0m 2ms/step - accuracy: 0.8878 - loss: 0.3038 - val_accuracy: 0.8782 - val_loss: 0.3496\n",
            "Epoch 7/10\n",
            "\u001b[1m1688/1688\u001b[0m \u001b[32m━━━━━━━━━━━━━━━━━━━━\u001b[0m\u001b[37m\u001b[0m \u001b[1m4s\u001b[0m 2ms/step - accuracy: 0.8926 - loss: 0.2936 - val_accuracy: 0.8822 - val_loss: 0.3384\n",
            "Epoch 8/10\n",
            "\u001b[1m1688/1688\u001b[0m \u001b[32m━━━━━━━━━━━━━━━━━━━━\u001b[0m\u001b[37m\u001b[0m \u001b[1m6s\u001b[0m 3ms/step - accuracy: 0.8972 - loss: 0.2795 - val_accuracy: 0.8808 - val_loss: 0.3442\n",
            "Epoch 9/10\n",
            "\u001b[1m1688/1688\u001b[0m \u001b[32m━━━━━━━━━━━━━━━━━━━━\u001b[0m\u001b[37m\u001b[0m \u001b[1m4s\u001b[0m 2ms/step - accuracy: 0.9015 - loss: 0.2685 - val_accuracy: 0.8748 - val_loss: 0.3588\n",
            "Epoch 10/10\n",
            "\u001b[1m1688/1688\u001b[0m \u001b[32m━━━━━━━━━━━━━━━━━━━━\u001b[0m\u001b[37m\u001b[0m \u001b[1m6s\u001b[0m 3ms/step - accuracy: 0.9038 - loss: 0.2569 - val_accuracy: 0.8810 - val_loss: 0.3512\n"
          ]
        },
        {
          "output_type": "execute_result",
          "data": {
            "text/plain": [
              "<keras.src.callbacks.history.History at 0x78087a7dfd90>"
            ]
          },
          "metadata": {},
          "execution_count": 10
        }
      ]
    },
    {
      "cell_type": "markdown",
      "source": [
        "Проанализируйте результат на проверочных и тестовых данных."
      ],
      "metadata": {
        "id": "tb-BgquH0D_6"
      }
    },
    {
      "cell_type": "code",
      "source": [
        "test_acc = model3.evaluate(x_test, y_test)\n",
        "print(test_acc)"
      ],
      "metadata": {
        "colab": {
          "base_uri": "https://localhost:8080/"
        },
        "id": "yGu6Rf_B2AXI",
        "outputId": "b3c44a2b-2101-4bc7-ff3c-8801decd41cb"
      },
      "execution_count": null,
      "outputs": [
        {
          "output_type": "stream",
          "name": "stdout",
          "text": [
            "\u001b[1m313/313\u001b[0m \u001b[32m━━━━━━━━━━━━━━━━━━━━\u001b[0m\u001b[37m\u001b[0m \u001b[1m1s\u001b[0m 2ms/step - accuracy: 0.8792 - loss: 0.3554\n",
            "[0.36699971556663513, 0.8748999834060669]\n"
          ]
        }
      ]
    },
    {
      "cell_type": "markdown",
      "source": [
        "Результаты оценки третьей модели на тестовых данных включают два основных показателя:\n",
        "\n",
        "Loss (функция потерь): 0.3670\n",
        "Accuracy (точность): 0.8749 или 87.49%\n",
        "Анализ результатов\n",
        "Точность (Accuracy)\n",
        "Точность модели на тестовом наборе данных составляет 87.49%. Это означает, что модель правильно классифицирует около 87.5% изображений из тестового набора. По сравнению с первой моделью это значительное улучшение, и результат незначительно выше, чем у второй модели.\n",
        "\n",
        "**Функция потерь (Loss)**\n",
        "Значение функции потерь на тестовом наборе данных равно примерно 0.3670. Это значение немного выше, чем у второй модели, но всё ещё указывает на хорошее соответствие модели данным.\n",
        "\n",
        "**Сравнение с предыдущими моделями**\n",
        "Третья модель показывает улучшение по сравнению с первой моделью и небольшое преимущество по точности перед второй моделью. Добавление дополнительного полносвязного слоя позволило модели немного улучшить результаты."
      ],
      "metadata": {
        "id": "sC7CwJkM7k70"
      }
    },
    {
      "cell_type": "markdown",
      "source": [
        " Импортируем\n",
        "необходимые библиотеки чтобы создать сверточную нейронную сеть."
      ],
      "metadata": {
        "id": "7xrTQUnx0IYK"
      }
    },
    {
      "cell_type": "code",
      "source": [
        "from tensorflow.keras.layers import Conv2D, MaxPooling2D, Flatten\n",
        "import numpy as np\n",
        "(x_train, y_train), (x_test, y_test) = fashion_mnist.load_data()\n",
        "x_train = x_train[:,:,:,np.newaxis] / 255.0\n",
        "x_test = x_test[:,:,:,np.newaxis] / 255.0\n",
        "y_train = to_categorical(y_train)\n",
        "y_test = to_categorical(y_test)"
      ],
      "metadata": {
        "id": "MEFNINom0Fdb"
      },
      "execution_count": null,
      "outputs": []
    },
    {
      "cell_type": "markdown",
      "source": [
        "Опишем архитектуру сети 4:"
      ],
      "metadata": {
        "id": "W_NyVjph0Kh6"
      }
    },
    {
      "cell_type": "code",
      "source": [
        "model4 = Sequential()\n",
        "model4.add(Conv2D(filters=64, kernel_size=2, padding='same',\n",
        "activation='relu', input_shape=(28,28, 1)))\n",
        "model4.add(MaxPooling2D(pool_size=2))\n",
        "model4.add(Flatten())\n",
        "model4.add(Dense(10, activation='softmax'))\n",
        "model4.compile(loss='categorical_crossentropy', optimizer='adam',\n",
        "metrics=['accuracy'])\n",
        "model4.fit(x_train, y_train, epochs=10, validation_split=0.1)"
      ],
      "metadata": {
        "colab": {
          "base_uri": "https://localhost:8080/"
        },
        "id": "OBDkBt6Q0NyZ",
        "outputId": "3678f784-2974-4401-fd9f-bc4ea93d5ade"
      },
      "execution_count": null,
      "outputs": [
        {
          "output_type": "stream",
          "name": "stderr",
          "text": [
            "/usr/local/lib/python3.11/dist-packages/keras/src/layers/convolutional/base_conv.py:107: UserWarning: Do not pass an `input_shape`/`input_dim` argument to a layer. When using Sequential models, prefer using an `Input(shape)` object as the first layer in the model instead.\n",
            "  super().__init__(activity_regularizer=activity_regularizer, **kwargs)\n"
          ]
        },
        {
          "output_type": "stream",
          "name": "stdout",
          "text": [
            "Epoch 1/10\n",
            "\u001b[1m1688/1688\u001b[0m \u001b[32m━━━━━━━━━━━━━━━━━━━━\u001b[0m\u001b[37m\u001b[0m \u001b[1m36s\u001b[0m 21ms/step - accuracy: 0.7990 - loss: 0.5780 - val_accuracy: 0.8768 - val_loss: 0.3412\n",
            "Epoch 2/10\n",
            "\u001b[1m1688/1688\u001b[0m \u001b[32m━━━━━━━━━━━━━━━━━━━━\u001b[0m\u001b[37m\u001b[0m \u001b[1m39s\u001b[0m 20ms/step - accuracy: 0.8893 - loss: 0.3145 - val_accuracy: 0.8927 - val_loss: 0.3053\n",
            "Epoch 3/10\n",
            "\u001b[1m1688/1688\u001b[0m \u001b[32m━━━━━━━━━━━━━━━━━━━━\u001b[0m\u001b[37m\u001b[0m \u001b[1m34s\u001b[0m 20ms/step - accuracy: 0.9008 - loss: 0.2787 - val_accuracy: 0.8892 - val_loss: 0.3144\n",
            "Epoch 4/10\n",
            "\u001b[1m1688/1688\u001b[0m \u001b[32m━━━━━━━━━━━━━━━━━━━━\u001b[0m\u001b[37m\u001b[0m \u001b[1m34s\u001b[0m 20ms/step - accuracy: 0.9042 - loss: 0.2647 - val_accuracy: 0.8920 - val_loss: 0.2963\n",
            "Epoch 5/10\n",
            "\u001b[1m1688/1688\u001b[0m \u001b[32m━━━━━━━━━━━━━━━━━━━━\u001b[0m\u001b[37m\u001b[0m \u001b[1m39s\u001b[0m 19ms/step - accuracy: 0.9130 - loss: 0.2454 - val_accuracy: 0.8993 - val_loss: 0.2770\n",
            "Epoch 6/10\n",
            "\u001b[1m1688/1688\u001b[0m \u001b[32m━━━━━━━━━━━━━━━━━━━━\u001b[0m\u001b[37m\u001b[0m \u001b[1m41s\u001b[0m 19ms/step - accuracy: 0.9186 - loss: 0.2290 - val_accuracy: 0.9038 - val_loss: 0.2740\n",
            "Epoch 7/10\n",
            "\u001b[1m1688/1688\u001b[0m \u001b[32m━━━━━━━━━━━━━━━━━━━━\u001b[0m\u001b[37m\u001b[0m \u001b[1m32s\u001b[0m 19ms/step - accuracy: 0.9226 - loss: 0.2165 - val_accuracy: 0.8985 - val_loss: 0.2926\n",
            "Epoch 8/10\n",
            "\u001b[1m1688/1688\u001b[0m \u001b[32m━━━━━━━━━━━━━━━━━━━━\u001b[0m\u001b[37m\u001b[0m \u001b[1m32s\u001b[0m 19ms/step - accuracy: 0.9258 - loss: 0.2068 - val_accuracy: 0.9010 - val_loss: 0.2833\n",
            "Epoch 9/10\n",
            "\u001b[1m1688/1688\u001b[0m \u001b[32m━━━━━━━━━━━━━━━━━━━━\u001b[0m\u001b[37m\u001b[0m \u001b[1m42s\u001b[0m 20ms/step - accuracy: 0.9304 - loss: 0.1958 - val_accuracy: 0.9007 - val_loss: 0.2914\n",
            "Epoch 10/10\n",
            "\u001b[1m1688/1688\u001b[0m \u001b[32m━━━━━━━━━━━━━━━━━━━━\u001b[0m\u001b[37m\u001b[0m \u001b[1m34s\u001b[0m 20ms/step - accuracy: 0.9340 - loss: 0.1841 - val_accuracy: 0.9040 - val_loss: 0.2746\n"
          ]
        },
        {
          "output_type": "execute_result",
          "data": {
            "text/plain": [
              "<keras.src.callbacks.history.History at 0x780879e9fcd0>"
            ]
          },
          "metadata": {},
          "execution_count": 14
        }
      ]
    },
    {
      "cell_type": "code",
      "source": [
        "test_acc = model4.evaluate(x_test, y_test)\n",
        "print(test_acc)"
      ],
      "metadata": {
        "colab": {
          "base_uri": "https://localhost:8080/"
        },
        "id": "bnkKb6Ti2PGP",
        "outputId": "9971adb8-cad4-4fec-ad45-bb6997dfe54c"
      },
      "execution_count": null,
      "outputs": [
        {
          "output_type": "stream",
          "name": "stdout",
          "text": [
            "\u001b[1m313/313\u001b[0m \u001b[32m━━━━━━━━━━━━━━━━━━━━\u001b[0m\u001b[37m\u001b[0m \u001b[1m2s\u001b[0m 7ms/step - accuracy: 0.9026 - loss: 0.2837\n",
            "[0.28379207849502563, 0.8995000123977661]\n"
          ]
        }
      ]
    },
    {
      "cell_type": "markdown",
      "source": [
        "Проанализируйте результат на проверочных и тестовых данных."
      ],
      "metadata": {
        "id": "4d-LEFLn0Qyc"
      }
    },
    {
      "cell_type": "markdown",
      "source": [
        "Результаты оценки четвёртой модели на тестовых данных включают два основных показателя:\n",
        "\n",
        "Loss (функция потерь): 0.28379207849502563\n",
        "Accuracy (точность): 0.8995 или 89.95%\n",
        "Анализ результатов\n",
        "Точность (Accuracy)\n",
        "Точность модели на тестовом наборе данных составляет 89.95%. Это означает, что модель правильно классифицирует около 90% изображений из тестового набора. По сравнению с предыдущими моделями это значительное улучшение. Такой уровень точности является высоким для задачи классификации одежды с 10 классами.\n",
        "\n",
        "**Функция потерь (Loss)**\n",
        "Значение функции потерь на тестовом наборе данных равно примерно 0.284. Это значение ниже, чем у предыдущих моделей, что указывает на лучшее соответствие модели данным. Меньшее значение функции потерь означает, что предсказания модели более близки к истинным меткам классов.\n",
        "\n",
        "**Сравнение с предыдущими моделями**\n",
        "Четвёртая модель показывает значительное улучшение по сравнению с предыдущими моделями как по точности, так и по функции потерь. Использование свёрточной нейронной сети (CNN) позволило модели лучше обучаться на данных и улучшить результаты."
      ],
      "metadata": {
        "id": "qXARl5Rp70v8"
      }
    },
    {
      "cell_type": "markdown",
      "source": [
        "\n",
        "\n",
        "---\n",
        "\n",
        "\n",
        "# **Проведите сравнение работы четырех архитектур. Какая из архитектур показывает лучший результат и почему? Как можно улучшить результаты каждой из архитектур?**"
      ],
      "metadata": {
        "id": "tG1StCnl0TxC"
      }
    },
    {
      "cell_type": "markdown",
      "source": [
        "Сравнение работы четырёх архитектур\n",
        "\n",
        "\n",
        "1.   Модель 1 Точность: 84.83% Функция потерь: 0.4316 Архитектура: простая полносвязная сеть с одним скрытым слоем из 10 нейронов.\n",
        "2.   Модель 2 Точность: 87.15% Функция потерь: 0.3636 Архитектура: полносвязная сеть с одним скрытым слоем из 50 нейронов.\n",
        "3.   Модель 3 Точность: 87.49% Функция потерь: 0.3670 Архитектура: полносвязная сеть с двумя скрытыми слоями по 50 нейронов каждый.\n",
        "4.   Модель 4 Точность: 89.95% Функция потерь: 0.2838 Архитектура: свёрточная нейронная сеть (CNN) с одним свёрточным слоем и последующим полносвязным слоем.\n",
        "\n",
        "***Анализ и выводы***\n",
        "*Лучший результат показывает Модель 4*. Это обусловлено использованием свёрточной архитектуры, которая лучше подходит для обработки изображений и способна эффективно извлекать пространственные признаки.\n",
        "\n",
        "***Возможные улучшения для каждой модели***\n",
        "\n",
        "\n",
        "1.   Модель 1\n",
        "Увеличение количества нейронов: добавление больше нейронов в единственный скрытый слой может улучшить способность модели к обучению.\n",
        "Добавление скрытых слоёв: введение дополнительных полносвязных слоёв может помочь модели лучше обучаться на данных.\n",
        "2.   Модель 2\n",
        "Добавление скрытых слоёв: введение дополнительных полносвязных слоёв может улучшить результаты.\n",
        "Регуляризация: применение методов регуляризации, таких как Dropout, может помочь предотвратить переобучение.\n",
        "3.   Модель 3\n",
        "Оптимизация гиперпараметров: настройка скорости обучения и других параметров оптимизатора может улучшить результаты.\n",
        "Регуляризация: добавление Dropout или других методов регуляризации может помочь предотвратить переобучение.\n",
        "4.   Модель 4\n",
        "Увеличение количества свёрточных слоёв: введение дополнительных свёрточных слоёв может помочь модели лучше извлекать признаки из данных.\n",
        "Использование более сложных архитектур: применение более сложных архитектур, таких как ResNet или VGG, может значительно улучшить результаты.\n"
      ],
      "metadata": {
        "id": "z0D8V7W-8BO_"
      }
    },
    {
      "cell_type": "markdown",
      "source": [
        "# Вариант 9\n",
        "\n",
        "\n",
        "1.   Архитектура 2-4-2\n",
        "2.   Скорость обучения 0.35\n",
        "3.   Входной векторX={0.1 -0.1}\n",
        "4.   Начальные значения весов взять произвольным образом из интервала [-0.3 0.3]\n",
        "5.   Y= {0.5; -0.5}"
      ],
      "metadata": {
        "id": "2EoR60Kt0dvt"
      }
    },
    {
      "cell_type": "code",
      "source": [
        "import tensorflow as tf\n",
        "from tensorflow.keras.models import Sequential\n",
        "from tensorflow.keras.layers import Dense, Conv2D, MaxPooling2D, Flatten, Dropout\n",
        "from tensorflow.keras.datasets import fashion_mnist\n",
        "from tensorflow.keras.utils import to_categorical\n",
        "import matplotlib.pyplot as plt\n",
        "\n",
        "# --- Загрузка и предобработка данных ---\n",
        "(x_train, y_train), (x_test, y_test) = fashion_mnist.load_data()\n",
        "num_classes = 10\n",
        "\n",
        "# Нормализация и добавление канала (для CNN)\n",
        "x_train = x_train.reshape(-1, 28, 28, 1).astype('float32') / 255.0\n",
        "x_test = x_test.reshape(-1, 28, 28, 1).astype('float32') / 255.0\n",
        "\n",
        "# One-hot кодирование меток\n",
        "y_train = to_categorical(y_train, num_classes)\n",
        "y_test = to_categorical(y_test, num_classes)\n",
        "\n",
        "print('Размерность x_train:', x_train.shape)\n",
        "print(x_train.shape[0], 'Размер train')\n",
        "print(x_test.shape[0], 'Размер test')\n",
        "\n",
        "# --- Гиперпараметры ---\n",
        "batch_size = 128\n",
        "epochs = 10\n",
        "learning_rate = 0.35  # оптимальное значение для Adam\n",
        "\n",
        "# --- Архитектура сверточной нейросети (CNN) ---\n",
        "model = Sequential([\n",
        "    Conv2D(32, kernel_size=(3, 3), activation='relu', input_shape=(28, 28, 1)),\n",
        "    MaxPooling2D(pool_size=(2, 2)),\n",
        "    Dropout(0.25),\n",
        "\n",
        "    Conv2D(64, kernel_size=(3, 3), activation='relu'),\n",
        "    MaxPooling2D(pool_size=(2, 2)),\n",
        "    Dropout(0.25),\n",
        "\n",
        "    Flatten(),\n",
        "    Dense(128, activation='relu', kernel_initializer=RandomUniform(minval=-0.3, maxval=0.3)),\n",
        "    Dropout(0.5),\n",
        "    Dense(num_classes, activation='softmax',  kernel_initializer=RandomUniform(minval=-0.3, maxval=0.3))\n",
        "])\n",
        "\n",
        "# --- Компиляция модели ---\n",
        "optimizer = tf.keras.optimizers.Adam(learning_rate=learning_rate)\n",
        "model.compile(loss='categorical_crossentropy', optimizer=optimizer, metrics=['accuracy'])\n",
        "\n",
        "model.summary()\n",
        "\n",
        "# --- Обучение ---\n",
        "hist = model.fit(\n",
        "    x_train, y_train,\n",
        "    batch_size=batch_size,\n",
        "    epochs=epochs,\n",
        "    verbose=1,\n",
        "    validation_split=0.1  # 10% от обучающих — на валидацию\n",
        ")\n",
        "\n",
        "print(\"✅ Модель успешно обучена\")\n",
        "\n",
        "# --- Сохранение модели ---\n",
        "model.save('mnist_cnn_optimized.h5')\n",
        "print(\"💾 Модель сохранена как mnist_cnn_optimized.h5\")\n",
        "\n",
        "# --- Оценка ---\n",
        "score = model.evaluate(x_test, y_test, verbose=0)\n",
        "print(f'📉 Потери на тесте: {score[0]:.4f}')\n",
        "print(f'✅ Точность на тесте: {score[1]*100:.2f}%')\n",
        "\n",
        "# --- Построение графика потерь ---\n",
        "plt.figure(figsize=(12, 5))\n",
        "\n",
        "plt.subplot(1, 2, 1)\n",
        "plt.plot(hist.history['loss'], label='Train Loss')\n",
        "plt.plot(hist.history['val_loss'], label='Validation Loss')\n",
        "plt.title('Потери по эпохам')\n",
        "plt.xlabel('Эпоха')\n",
        "plt.ylabel('Loss')\n",
        "plt.legend()\n",
        "plt.grid(True)\n",
        "\n",
        "# --- Построение графика точности ---\n",
        "plt.subplot(1, 2, 2)\n",
        "plt.plot(hist.history['accuracy'], label='Train Accuracy')\n",
        "plt.plot(hist.history['val_accuracy'], label='Validation Accuracy')\n",
        "plt.title('Точность по эпохам')\n",
        "plt.xlabel('Эпоха')\n",
        "plt.ylabel('Accuracy')\n",
        "plt.legend()\n",
        "plt.grid(True)\n",
        "\n",
        "plt.tight_layout()\n",
        "plt.show()"
      ],
      "metadata": {
        "colab": {
          "base_uri": "https://localhost:8080/",
          "height": 1000
        },
        "id": "kycXE8d8ZFJb",
        "outputId": "8632ac28-c01e-41f4-83a6-ff3d86e0358e"
      },
      "execution_count": 4,
      "outputs": [
        {
          "output_type": "stream",
          "name": "stdout",
          "text": [
            "Размерность x_train: (60000, 28, 28, 1)\n",
            "60000 Размер train\n",
            "10000 Размер test\n"
          ]
        },
        {
          "output_type": "display_data",
          "data": {
            "text/plain": [
              "\u001b[1mModel: \"sequential_1\"\u001b[0m\n"
            ],
            "text/html": [
              "<pre style=\"white-space:pre;overflow-x:auto;line-height:normal;font-family:Menlo,'DejaVu Sans Mono',consolas,'Courier New',monospace\"><span style=\"font-weight: bold\">Model: \"sequential_1\"</span>\n",
              "</pre>\n"
            ]
          },
          "metadata": {}
        },
        {
          "output_type": "display_data",
          "data": {
            "text/plain": [
              "┏━━━━━━━━━━━━━━━━━━━━━━━━━━━━━━━━━┳━━━━━━━━━━━━━━━━━━━━━━━━┳━━━━━━━━━━━━━━━┓\n",
              "┃\u001b[1m \u001b[0m\u001b[1mLayer (type)                   \u001b[0m\u001b[1m \u001b[0m┃\u001b[1m \u001b[0m\u001b[1mOutput Shape          \u001b[0m\u001b[1m \u001b[0m┃\u001b[1m \u001b[0m\u001b[1m      Param #\u001b[0m\u001b[1m \u001b[0m┃\n",
              "┡━━━━━━━━━━━━━━━━━━━━━━━━━━━━━━━━━╇━━━━━━━━━━━━━━━━━━━━━━━━╇━━━━━━━━━━━━━━━┩\n",
              "│ conv2d_2 (\u001b[38;5;33mConv2D\u001b[0m)               │ (\u001b[38;5;45mNone\u001b[0m, \u001b[38;5;34m26\u001b[0m, \u001b[38;5;34m26\u001b[0m, \u001b[38;5;34m32\u001b[0m)     │           \u001b[38;5;34m320\u001b[0m │\n",
              "├─────────────────────────────────┼────────────────────────┼───────────────┤\n",
              "│ max_pooling2d_2 (\u001b[38;5;33mMaxPooling2D\u001b[0m)  │ (\u001b[38;5;45mNone\u001b[0m, \u001b[38;5;34m13\u001b[0m, \u001b[38;5;34m13\u001b[0m, \u001b[38;5;34m32\u001b[0m)     │             \u001b[38;5;34m0\u001b[0m │\n",
              "├─────────────────────────────────┼────────────────────────┼───────────────┤\n",
              "│ dropout_3 (\u001b[38;5;33mDropout\u001b[0m)             │ (\u001b[38;5;45mNone\u001b[0m, \u001b[38;5;34m13\u001b[0m, \u001b[38;5;34m13\u001b[0m, \u001b[38;5;34m32\u001b[0m)     │             \u001b[38;5;34m0\u001b[0m │\n",
              "├─────────────────────────────────┼────────────────────────┼───────────────┤\n",
              "│ conv2d_3 (\u001b[38;5;33mConv2D\u001b[0m)               │ (\u001b[38;5;45mNone\u001b[0m, \u001b[38;5;34m11\u001b[0m, \u001b[38;5;34m11\u001b[0m, \u001b[38;5;34m64\u001b[0m)     │        \u001b[38;5;34m18,496\u001b[0m │\n",
              "├─────────────────────────────────┼────────────────────────┼───────────────┤\n",
              "│ max_pooling2d_3 (\u001b[38;5;33mMaxPooling2D\u001b[0m)  │ (\u001b[38;5;45mNone\u001b[0m, \u001b[38;5;34m5\u001b[0m, \u001b[38;5;34m5\u001b[0m, \u001b[38;5;34m64\u001b[0m)       │             \u001b[38;5;34m0\u001b[0m │\n",
              "├─────────────────────────────────┼────────────────────────┼───────────────┤\n",
              "│ dropout_4 (\u001b[38;5;33mDropout\u001b[0m)             │ (\u001b[38;5;45mNone\u001b[0m, \u001b[38;5;34m5\u001b[0m, \u001b[38;5;34m5\u001b[0m, \u001b[38;5;34m64\u001b[0m)       │             \u001b[38;5;34m0\u001b[0m │\n",
              "├─────────────────────────────────┼────────────────────────┼───────────────┤\n",
              "│ flatten_1 (\u001b[38;5;33mFlatten\u001b[0m)             │ (\u001b[38;5;45mNone\u001b[0m, \u001b[38;5;34m1600\u001b[0m)           │             \u001b[38;5;34m0\u001b[0m │\n",
              "├─────────────────────────────────┼────────────────────────┼───────────────┤\n",
              "│ dense_2 (\u001b[38;5;33mDense\u001b[0m)                 │ (\u001b[38;5;45mNone\u001b[0m, \u001b[38;5;34m128\u001b[0m)            │       \u001b[38;5;34m204,928\u001b[0m │\n",
              "├─────────────────────────────────┼────────────────────────┼───────────────┤\n",
              "│ dropout_5 (\u001b[38;5;33mDropout\u001b[0m)             │ (\u001b[38;5;45mNone\u001b[0m, \u001b[38;5;34m128\u001b[0m)            │             \u001b[38;5;34m0\u001b[0m │\n",
              "├─────────────────────────────────┼────────────────────────┼───────────────┤\n",
              "│ dense_3 (\u001b[38;5;33mDense\u001b[0m)                 │ (\u001b[38;5;45mNone\u001b[0m, \u001b[38;5;34m10\u001b[0m)             │         \u001b[38;5;34m1,290\u001b[0m │\n",
              "└─────────────────────────────────┴────────────────────────┴───────────────┘\n"
            ],
            "text/html": [
              "<pre style=\"white-space:pre;overflow-x:auto;line-height:normal;font-family:Menlo,'DejaVu Sans Mono',consolas,'Courier New',monospace\">┏━━━━━━━━━━━━━━━━━━━━━━━━━━━━━━━━━┳━━━━━━━━━━━━━━━━━━━━━━━━┳━━━━━━━━━━━━━━━┓\n",
              "┃<span style=\"font-weight: bold\"> Layer (type)                    </span>┃<span style=\"font-weight: bold\"> Output Shape           </span>┃<span style=\"font-weight: bold\">       Param # </span>┃\n",
              "┡━━━━━━━━━━━━━━━━━━━━━━━━━━━━━━━━━╇━━━━━━━━━━━━━━━━━━━━━━━━╇━━━━━━━━━━━━━━━┩\n",
              "│ conv2d_2 (<span style=\"color: #0087ff; text-decoration-color: #0087ff\">Conv2D</span>)               │ (<span style=\"color: #00d7ff; text-decoration-color: #00d7ff\">None</span>, <span style=\"color: #00af00; text-decoration-color: #00af00\">26</span>, <span style=\"color: #00af00; text-decoration-color: #00af00\">26</span>, <span style=\"color: #00af00; text-decoration-color: #00af00\">32</span>)     │           <span style=\"color: #00af00; text-decoration-color: #00af00\">320</span> │\n",
              "├─────────────────────────────────┼────────────────────────┼───────────────┤\n",
              "│ max_pooling2d_2 (<span style=\"color: #0087ff; text-decoration-color: #0087ff\">MaxPooling2D</span>)  │ (<span style=\"color: #00d7ff; text-decoration-color: #00d7ff\">None</span>, <span style=\"color: #00af00; text-decoration-color: #00af00\">13</span>, <span style=\"color: #00af00; text-decoration-color: #00af00\">13</span>, <span style=\"color: #00af00; text-decoration-color: #00af00\">32</span>)     │             <span style=\"color: #00af00; text-decoration-color: #00af00\">0</span> │\n",
              "├─────────────────────────────────┼────────────────────────┼───────────────┤\n",
              "│ dropout_3 (<span style=\"color: #0087ff; text-decoration-color: #0087ff\">Dropout</span>)             │ (<span style=\"color: #00d7ff; text-decoration-color: #00d7ff\">None</span>, <span style=\"color: #00af00; text-decoration-color: #00af00\">13</span>, <span style=\"color: #00af00; text-decoration-color: #00af00\">13</span>, <span style=\"color: #00af00; text-decoration-color: #00af00\">32</span>)     │             <span style=\"color: #00af00; text-decoration-color: #00af00\">0</span> │\n",
              "├─────────────────────────────────┼────────────────────────┼───────────────┤\n",
              "│ conv2d_3 (<span style=\"color: #0087ff; text-decoration-color: #0087ff\">Conv2D</span>)               │ (<span style=\"color: #00d7ff; text-decoration-color: #00d7ff\">None</span>, <span style=\"color: #00af00; text-decoration-color: #00af00\">11</span>, <span style=\"color: #00af00; text-decoration-color: #00af00\">11</span>, <span style=\"color: #00af00; text-decoration-color: #00af00\">64</span>)     │        <span style=\"color: #00af00; text-decoration-color: #00af00\">18,496</span> │\n",
              "├─────────────────────────────────┼────────────────────────┼───────────────┤\n",
              "│ max_pooling2d_3 (<span style=\"color: #0087ff; text-decoration-color: #0087ff\">MaxPooling2D</span>)  │ (<span style=\"color: #00d7ff; text-decoration-color: #00d7ff\">None</span>, <span style=\"color: #00af00; text-decoration-color: #00af00\">5</span>, <span style=\"color: #00af00; text-decoration-color: #00af00\">5</span>, <span style=\"color: #00af00; text-decoration-color: #00af00\">64</span>)       │             <span style=\"color: #00af00; text-decoration-color: #00af00\">0</span> │\n",
              "├─────────────────────────────────┼────────────────────────┼───────────────┤\n",
              "│ dropout_4 (<span style=\"color: #0087ff; text-decoration-color: #0087ff\">Dropout</span>)             │ (<span style=\"color: #00d7ff; text-decoration-color: #00d7ff\">None</span>, <span style=\"color: #00af00; text-decoration-color: #00af00\">5</span>, <span style=\"color: #00af00; text-decoration-color: #00af00\">5</span>, <span style=\"color: #00af00; text-decoration-color: #00af00\">64</span>)       │             <span style=\"color: #00af00; text-decoration-color: #00af00\">0</span> │\n",
              "├─────────────────────────────────┼────────────────────────┼───────────────┤\n",
              "│ flatten_1 (<span style=\"color: #0087ff; text-decoration-color: #0087ff\">Flatten</span>)             │ (<span style=\"color: #00d7ff; text-decoration-color: #00d7ff\">None</span>, <span style=\"color: #00af00; text-decoration-color: #00af00\">1600</span>)           │             <span style=\"color: #00af00; text-decoration-color: #00af00\">0</span> │\n",
              "├─────────────────────────────────┼────────────────────────┼───────────────┤\n",
              "│ dense_2 (<span style=\"color: #0087ff; text-decoration-color: #0087ff\">Dense</span>)                 │ (<span style=\"color: #00d7ff; text-decoration-color: #00d7ff\">None</span>, <span style=\"color: #00af00; text-decoration-color: #00af00\">128</span>)            │       <span style=\"color: #00af00; text-decoration-color: #00af00\">204,928</span> │\n",
              "├─────────────────────────────────┼────────────────────────┼───────────────┤\n",
              "│ dropout_5 (<span style=\"color: #0087ff; text-decoration-color: #0087ff\">Dropout</span>)             │ (<span style=\"color: #00d7ff; text-decoration-color: #00d7ff\">None</span>, <span style=\"color: #00af00; text-decoration-color: #00af00\">128</span>)            │             <span style=\"color: #00af00; text-decoration-color: #00af00\">0</span> │\n",
              "├─────────────────────────────────┼────────────────────────┼───────────────┤\n",
              "│ dense_3 (<span style=\"color: #0087ff; text-decoration-color: #0087ff\">Dense</span>)                 │ (<span style=\"color: #00d7ff; text-decoration-color: #00d7ff\">None</span>, <span style=\"color: #00af00; text-decoration-color: #00af00\">10</span>)             │         <span style=\"color: #00af00; text-decoration-color: #00af00\">1,290</span> │\n",
              "└─────────────────────────────────┴────────────────────────┴───────────────┘\n",
              "</pre>\n"
            ]
          },
          "metadata": {}
        },
        {
          "output_type": "display_data",
          "data": {
            "text/plain": [
              "\u001b[1m Total params: \u001b[0m\u001b[38;5;34m225,034\u001b[0m (879.04 KB)\n"
            ],
            "text/html": [
              "<pre style=\"white-space:pre;overflow-x:auto;line-height:normal;font-family:Menlo,'DejaVu Sans Mono',consolas,'Courier New',monospace\"><span style=\"font-weight: bold\"> Total params: </span><span style=\"color: #00af00; text-decoration-color: #00af00\">225,034</span> (879.04 KB)\n",
              "</pre>\n"
            ]
          },
          "metadata": {}
        },
        {
          "output_type": "display_data",
          "data": {
            "text/plain": [
              "\u001b[1m Trainable params: \u001b[0m\u001b[38;5;34m225,034\u001b[0m (879.04 KB)\n"
            ],
            "text/html": [
              "<pre style=\"white-space:pre;overflow-x:auto;line-height:normal;font-family:Menlo,'DejaVu Sans Mono',consolas,'Courier New',monospace\"><span style=\"font-weight: bold\"> Trainable params: </span><span style=\"color: #00af00; text-decoration-color: #00af00\">225,034</span> (879.04 KB)\n",
              "</pre>\n"
            ]
          },
          "metadata": {}
        },
        {
          "output_type": "display_data",
          "data": {
            "text/plain": [
              "\u001b[1m Non-trainable params: \u001b[0m\u001b[38;5;34m0\u001b[0m (0.00 B)\n"
            ],
            "text/html": [
              "<pre style=\"white-space:pre;overflow-x:auto;line-height:normal;font-family:Menlo,'DejaVu Sans Mono',consolas,'Courier New',monospace\"><span style=\"font-weight: bold\"> Non-trainable params: </span><span style=\"color: #00af00; text-decoration-color: #00af00\">0</span> (0.00 B)\n",
              "</pre>\n"
            ]
          },
          "metadata": {}
        },
        {
          "output_type": "stream",
          "name": "stdout",
          "text": [
            "Epoch 1/10\n",
            "\u001b[1m422/422\u001b[0m \u001b[32m━━━━━━━━━━━━━━━━━━━━\u001b[0m\u001b[37m\u001b[0m \u001b[1m43s\u001b[0m 98ms/step - accuracy: 0.6333 - loss: 1.0208 - val_accuracy: 0.8308 - val_loss: 0.4475\n",
            "Epoch 2/10\n",
            "\u001b[1m422/422\u001b[0m \u001b[32m━━━━━━━━━━━━━━━━━━━━\u001b[0m\u001b[37m\u001b[0m \u001b[1m82s\u001b[0m 100ms/step - accuracy: 0.8168 - loss: 0.5044 - val_accuracy: 0.8622 - val_loss: 0.3744\n",
            "Epoch 3/10\n",
            "\u001b[1m422/422\u001b[0m \u001b[32m━━━━━━━━━━━━━━━━━━━━\u001b[0m\u001b[37m\u001b[0m \u001b[1m82s\u001b[0m 99ms/step - accuracy: 0.8424 - loss: 0.4319 - val_accuracy: 0.8722 - val_loss: 0.3465\n",
            "Epoch 4/10\n",
            "\u001b[1m422/422\u001b[0m \u001b[32m━━━━━━━━━━━━━━━━━━━━\u001b[0m\u001b[37m\u001b[0m \u001b[1m81s\u001b[0m 97ms/step - accuracy: 0.8602 - loss: 0.3936 - val_accuracy: 0.8825 - val_loss: 0.3102\n",
            "Epoch 5/10\n",
            "\u001b[1m422/422\u001b[0m \u001b[32m━━━━━━━━━━━━━━━━━━━━\u001b[0m\u001b[37m\u001b[0m \u001b[1m42s\u001b[0m 100ms/step - accuracy: 0.8683 - loss: 0.3676 - val_accuracy: 0.8918 - val_loss: 0.2917\n",
            "Epoch 6/10\n",
            "\u001b[1m422/422\u001b[0m \u001b[32m━━━━━━━━━━━━━━━━━━━━\u001b[0m\u001b[37m\u001b[0m \u001b[1m80s\u001b[0m 96ms/step - accuracy: 0.8741 - loss: 0.3494 - val_accuracy: 0.8925 - val_loss: 0.2870\n",
            "Epoch 7/10\n",
            "\u001b[1m422/422\u001b[0m \u001b[32m━━━━━━━━━━━━━━━━━━━━\u001b[0m\u001b[37m\u001b[0m \u001b[1m41s\u001b[0m 96ms/step - accuracy: 0.8818 - loss: 0.3339 - val_accuracy: 0.9000 - val_loss: 0.2672\n",
            "Epoch 8/10\n",
            "\u001b[1m422/422\u001b[0m \u001b[32m━━━━━━━━━━━━━━━━━━━━\u001b[0m\u001b[37m\u001b[0m \u001b[1m42s\u001b[0m 97ms/step - accuracy: 0.8859 - loss: 0.3134 - val_accuracy: 0.8968 - val_loss: 0.2685\n",
            "Epoch 9/10\n",
            "\u001b[1m422/422\u001b[0m \u001b[32m━━━━━━━━━━━━━━━━━━━━\u001b[0m\u001b[37m\u001b[0m \u001b[1m81s\u001b[0m 96ms/step - accuracy: 0.8854 - loss: 0.3125 - val_accuracy: 0.9028 - val_loss: 0.2585\n",
            "Epoch 10/10\n",
            "\u001b[1m422/422\u001b[0m \u001b[32m━━━━━━━━━━━━━━━━━━━━\u001b[0m\u001b[37m\u001b[0m \u001b[1m41s\u001b[0m 97ms/step - accuracy: 0.8901 - loss: 0.3008 - val_accuracy: 0.9030 - val_loss: 0.2580\n"
          ]
        },
        {
          "output_type": "stream",
          "name": "stderr",
          "text": [
            "WARNING:absl:You are saving your model as an HDF5 file via `model.save()` or `keras.saving.save_model(model)`. This file format is considered legacy. We recommend using instead the native Keras format, e.g. `model.save('my_model.keras')` or `keras.saving.save_model(model, 'my_model.keras')`. \n"
          ]
        },
        {
          "output_type": "stream",
          "name": "stdout",
          "text": [
            "✅ Модель успешно обучена\n",
            "💾 Модель сохранена как mnist_cnn_optimized.h5\n",
            "📉 Потери на тесте: 0.2739\n",
            "✅ Точность на тесте: 89.97%\n"
          ]
        },
        {
          "output_type": "display_data",
          "data": {
            "text/plain": [
              "<Figure size 1200x500 with 2 Axes>"
            ],
            "image/png": "[encoded data removed]"
          },
          "metadata": {}
        }
      ]
    },
    {
      "cell_type": "code",
      "source": [
        "from tensorflow.keras.models import Sequential\n",
        "from tensorflow.keras.layers import Dense\n",
        "from tensorflow.keras.initializers import RandomUniform\n",
        "from tensorflow.keras.optimizers import SGD\n",
        "import numpy as np\n",
        "\n",
        "# --- Условия из варианта 9 ---\n",
        "X = np.array([[0.1, -0.1]])  # входной вектор\n",
        "Y = np.array([[0.5, -0.5]])  # эталонный выход\n",
        "learning_rate = 0.35\n",
        "epochs = 100\n",
        "\n",
        "# --- Построение модели 2-4-2 ---\n",
        "mlp_model = Sequential()\n",
        "mlp_model.add(Dense(4, input_dim=2, activation='sigmoid',\n",
        "                    kernel_initializer=RandomUniform(minval=-0.3, maxval=0.3)))\n",
        "mlp_model.add(Dense(2, activation='sigmoid',\n",
        "                    kernel_initializer=RandomUniform(minval=-0.3, maxval=0.3)))\n",
        "\n",
        "# --- Компиляция и обучение ---\n",
        "optimizer = SGD(learning_rate=learning_rate)\n",
        "mlp_model.compile(optimizer=optimizer, loss='mse')\n",
        "\n",
        "losses = []\n",
        "accuracies = []\n",
        "\n",
        "for epoch in range(epochs):\n",
        "    mlp_model.fit(X, Y, epochs=1, verbose=0)\n",
        "    pred = mlp_model.predict(X, verbose=0)\n",
        "    loss = np.mean((Y - pred)**2)\n",
        "    acc = 1 - np.mean(np.abs(Y - pred)) / np.mean(np.abs(Y))  # приближенная точность\n",
        "    losses.append(loss)\n",
        "    accuracies.append(acc)\n",
        "\n",
        "print(\"\\nИндивидуальный вариант №9 (MLP 2-4-2):\")\n",
        "print(f\"Целевой выход: {Y}\")\n",
        "print(f\"Выход сети после обучения: {pred.round(4)}\")\n",
        "\n",
        "# --- Визуализация потерь и точности ---\n",
        "plt.figure(figsize=(12, 5))\n",
        "\n",
        "plt.subplot(1, 2, 1)\n",
        "plt.plot(losses, marker='o', color='red')\n",
        "plt.title(\"MLP 2-4-2: Ошибка по эпохам (MSE)\")\n",
        "plt.xlabel(\"Эпоха\")\n",
        "plt.ylabel(\"Ошибка\")\n",
        "plt.grid(True)\n",
        "\n",
        "plt.subplot(1, 2, 2)\n",
        "plt.plot(accuracies, marker='o', color='green')\n",
        "plt.title(\"MLP 2-4-2: Приближённая точность по эпохам\")\n",
        "plt.xlabel(\"Эпоха\")\n",
        "plt.ylabel(\"Точность\")\n",
        "plt.grid(True)\n",
        "\n",
        "plt.tight_layout()\n",
        "plt.show()"
      ],
      "metadata": {
        "colab": {
          "base_uri": "https://localhost:8080/",
          "height": 576
        },
        "id": "qBGC2HD9KSs6",
        "outputId": "87a6372c-79d8-48f1-f443-9ff24f3daf8f"
      },
      "execution_count": 6,
      "outputs": [
        {
          "output_type": "stream",
          "name": "stdout",
          "text": [
            "\n",
            "🧠 Индивидуальный вариант №9 (MLP 2-4-2):\n",
            "🎯 Целевой выход: [[ 0.5 -0.5]]\n",
            "🔍 Выход сети после обучения: [[0.4998 0.0248]]\n"
          ]
        },
        {
          "output_type": "display_data",
          "data": {
            "text/plain": [
              "<Figure size 1200x500 with 2 Axes>"
            ],
            "image/png": "[encoded data removed]"
          },
          "metadata": {}
        }
      ]
    }
  ]
}