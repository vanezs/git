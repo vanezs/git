{
  "nbformat": 4,
  "nbformat_minor": 0,
  "metadata": {
    "colab": {
      "provenance": []
    },
    "kernelspec": {
      "name": "python3",
      "display_name": "Python 3"
    },
    "language_info": {
      "name": "python"
    }
  },
  "cells": [
    {
      "cell_type": "code",
      "execution_count": 2,
      "metadata": {
        "id": "hEeaM-8Mq0us"
      },
      "outputs": [],
      "source": [
        "import numpy as np"
      ]
    },
    {
      "cell_type": "markdown",
      "source": [
        "Шаг 1. Подготовить обучающую выборку"
      ],
      "metadata": {
        "id": "9JEdQ8iBsMZ2"
      }
    },
    {
      "cell_type": "code",
      "source": [
        "def prepare_training_set(q, n, k):\n",
        "    X = np.random.rand(q, n)  # Обучающие векторы\n",
        "    D = np.random.randint(0, 2, (q, k))  # Векторы желаемых значений выходов персептрона\n",
        "    return X, D"
      ],
      "metadata": {
        "id": "-Kzkz0HpsOTA"
      },
      "execution_count": 3,
      "outputs": []
    },
    {
      "cell_type": "markdown",
      "source": [
        "Шаг 2. Генератором случайных чисел всем синаптическим весам и нейронным смещениям присваиваются некоторые малые случайные значения\n"
      ],
      "metadata": {
        "id": "SjQDYo_ksOy5"
      }
    },
    {
      "cell_type": "code",
      "source": [
        "def initialize_weights(n, k):\n",
        "    w = np.random.uniform(-0.5, 0.5, (n + 1, k))  # Синаптические веса и нейронные смещения\n",
        "    return w"
      ],
      "metadata": {
        "id": "ls-t6mTysRPi"
      },
      "execution_count": 4,
      "outputs": []
    },
    {
      "cell_type": "markdown",
      "source": [
        "Шаг 3. Общей ошибке Eобщ и всем значениям коррекции синаптических весов присвоить нулевое значение\n"
      ],
      "metadata": {
        "id": "aGgqthoXsT35"
      }
    },
    {
      "cell_type": "code",
      "source": [
        "def initialize_error_and_weight_correction(k):\n",
        "    E_total = 0\n",
        "    delta_w = np.zeros((n + 1, k))\n",
        "    return E_total, delta_w"
      ],
      "metadata": {
        "id": "MP6mx0VSsS1E"
      },
      "execution_count": 5,
      "outputs": []
    },
    {
      "cell_type": "markdown",
      "source": [
        "Шаг 4. Из обучающей выборки взять следующий по счету вектор Xm и подать его на входы персептрона\n"
      ],
      "metadata": {
        "id": "TcA17DEQsWzj"
      }
    },
    {
      "cell_type": "code",
      "source": [
        "def get_next_input_vector(X, m):\n",
        "    x = X[m]\n",
        "    x = np.insert(x, 0, 1)  # Добавляем смещение x0 = 1\n",
        "    return x"
      ],
      "metadata": {
        "id": "jkMHxjO5sYnR"
      },
      "execution_count": 6,
      "outputs": []
    },
    {
      "cell_type": "markdown",
      "source": [
        "Шаг 5. Для каждого j-го нейрона вычислить взвешенную сумму входных сигналов netj и выходной сигнал yj на основании функции активации f\n"
      ],
      "metadata": {
        "id": "RPh5eWxvsaTp"
      }
    },
    {
      "cell_type": "code",
      "source": [
        "def calculate_output(x, w):\n",
        "    net = np.dot(x, w)\n",
        "    y = 1 / (1 + np.exp(-net))  # Функция активации сигмоид\n",
        "    return y"
      ],
      "metadata": {
        "id": "ked42cRnsdeD"
      },
      "execution_count": 7,
      "outputs": []
    },
    {
      "cell_type": "markdown",
      "source": [
        "Шаг 6. Вычислить ошибку E для текущего обучающего вектора и сложить полученное значение с общей ошибкой Eобщ\n"
      ],
      "metadata": {
        "id": "hYmpdukcsfe-"
      }
    },
    {
      "cell_type": "code",
      "source": [
        "def calculate_error(y, d):\n",
        "    error = d - y\n",
        "    E = np.sum(error ** 2)\n",
        "    return E, error"
      ],
      "metadata": {
        "id": "2tco0CQasgiW"
      },
      "execution_count": 8,
      "outputs": []
    },
    {
      "cell_type": "markdown",
      "source": [
        "Шаг 7. Посчитать величину коррекции синаптических весов j-го нейрона и нейронных смещений и запомнить их (накопление изменений)\n"
      ],
      "metadata": {
        "id": "M8M8RPeasihp"
      }
    },
    {
      "cell_type": "code",
      "source": [
        "def accumulate_weight_correction(x, error, delta_w):\n",
        "    delta_w += np.outer(x, error)\n",
        "    return delta_w"
      ],
      "metadata": {
        "id": "gGLaOdRUsmR-"
      },
      "execution_count": 9,
      "outputs": []
    },
    {
      "cell_type": "markdown",
      "source": [
        "Пример использования алгоритма\n"
      ],
      "metadata": {
        "id": "bPUzo5rUsmzi"
      }
    },
    {
      "cell_type": "code",
      "source": [
        "q = 10  # Количество обучающих векторов\n",
        "n = 3  # Количество входов\n",
        "k = 2  # Количество нейронов\n",
        "learning_rate = 0.1  # Скорость обучения\n",
        "epochs = 100  # Количество эпох\n",
        "threshold = 0.01  # Порог ошибки для останова обучения\n",
        "\n",
        "X, D = prepare_training_set(q, n, k)\n",
        "w = initialize_weights(n, k)\n",
        "\n",
        "for epoch in range(epochs):\n",
        "    E_total, delta_w = initialize_error_and_weight_correction(k)\n",
        "\n",
        "    for m in range(q):\n",
        "        x = get_next_input_vector(X, m)\n",
        "        y = calculate_output(x, w)\n",
        "\n",
        "        # Шаг 6\n",
        "        E, error = calculate_error(y, D[m])\n",
        "        E_total += E\n",
        "\n",
        "        # Шаг 7\n",
        "        delta_w = accumulate_weight_correction(x, error, delta_w)\n",
        "\n",
        "    # Шаг 8\n",
        "    if E_total < threshold:  # Критерий останова обучения по порогу ошибки\n",
        "        print(\"Обучение завершено досрочно после\", epoch + 1, \"эпох\")\n",
        "        break\n",
        "\n",
        "    # Дополнительный критерий останова: проверка изменения общей ошибки\n",
        "    if epoch > 0 and abs(E_total - prev_E_total) < 0.001:\n",
        "        print(\"Обучение завершено досрочно после\", epoch + 1, \"эпох (ошибка стабилизировалась)\")\n",
        "        break\n",
        "    prev_E_total = E_total\n",
        "\n",
        "    # Шаг 9\n",
        "    w += learning_rate * delta_w\n",
        "\n",
        "print(\"Окончательные веса:\", w)\n",
        "print(\"Общая ошибка:\", E_total)"
      ],
      "metadata": {
        "colab": {
          "base_uri": "https://localhost:8080/"
        },
        "id": "ssUBEG-2sqKC",
        "outputId": "e461e9c6-23de-4622-c48d-4f040effd2e8"
      },
      "execution_count": 10,
      "outputs": [
        {
          "output_type": "stream",
          "name": "stdout",
          "text": [
            "Окончательные веса: [[ 1.51444805 -0.28576306]\n",
            " [ 0.52176032  2.72331752]\n",
            " [-2.66343465 -3.30378247]\n",
            " [-0.9698662   3.07281395]]\n",
            "Общая ошибка: 2.9061610734553494\n"
          ]
        }
      ]
    },
    {
      "cell_type": "markdown",
      "source": [
        "Теперь добавь реальное обучение keras данным алгоритмом"
      ],
      "metadata": {
        "id": "CnHFzFDdsuc5"
      }
    },
    {
      "cell_type": "code",
      "source": [
        "!pip install tensorflow\n",
        "!pip install keras\n",
        "import numpy as np\n",
        "from tensorflow import keras\n",
        "from keras.layers import Dense\n",
        "from keras.models import Sequential, load_model"
      ],
      "metadata": {
        "colab": {
          "base_uri": "https://localhost:8080/"
        },
        "collapsed": true,
        "id": "o_2oFnQrsw64",
        "outputId": "b18d3d30-83f1-4415-c737-b79bfbc97fbb"
      },
      "execution_count": 11,
      "outputs": [
        {
          "output_type": "stream",
          "name": "stdout",
          "text": [
            "Requirement already satisfied: tensorflow in /usr/local/lib/python3.11/dist-packages (2.18.0)\n",
            "Requirement already satisfied: absl-py>=1.0.0 in /usr/local/lib/python3.11/dist-packages (from tensorflow) (1.4.0)\n",
            "Requirement already satisfied: astunparse>=1.6.0 in /usr/local/lib/python3.11/dist-packages (from tensorflow) (1.6.3)\n",
            "Requirement already satisfied: flatbuffers>=24.3.25 in /usr/local/lib/python3.11/dist-packages (from tensorflow) (25.2.10)\n",
            "Requirement already satisfied: gast!=0.5.0,!=0.5.1,!=0.5.2,>=0.2.1 in /usr/local/lib/python3.11/dist-packages (from tensorflow) (0.6.0)\n",
            "Requirement already satisfied: google-pasta>=0.1.1 in /usr/local/lib/python3.11/dist-packages (from tensorflow) (0.2.0)\n",
            "Requirement already satisfied: libclang>=13.0.0 in /usr/local/lib/python3.11/dist-packages (from tensorflow) (18.1.1)\n",
            "Requirement already satisfied: opt-einsum>=2.3.2 in /usr/local/lib/python3.11/dist-packages (from tensorflow) (3.4.0)\n",
            "Requirement already satisfied: packaging in /usr/local/lib/python3.11/dist-packages (from tensorflow) (24.2)\n",
            "Requirement already satisfied: protobuf!=4.21.0,!=4.21.1,!=4.21.2,!=4.21.3,!=4.21.4,!=4.21.5,<6.0.0dev,>=3.20.3 in /usr/local/lib/python3.11/dist-packages (from tensorflow) (5.29.4)\n",
            "Requirement already satisfied: requests<3,>=2.21.0 in /usr/local/lib/python3.11/dist-packages (from tensorflow) (2.32.3)\n",
            "Requirement already satisfied: setuptools in /usr/local/lib/python3.11/dist-packages (from tensorflow) (75.2.0)\n",
            "Requirement already satisfied: six>=1.12.0 in /usr/local/lib/python3.11/dist-packages (from tensorflow) (1.17.0)\n",
            "Requirement already satisfied: termcolor>=1.1.0 in /usr/local/lib/python3.11/dist-packages (from tensorflow) (3.0.1)\n",
            "Requirement already satisfied: typing-extensions>=3.6.6 in /usr/local/lib/python3.11/dist-packages (from tensorflow) (4.13.0)\n",
            "Requirement already satisfied: wrapt>=1.11.0 in /usr/local/lib/python3.11/dist-packages (from tensorflow) (1.17.2)\n",
            "Requirement already satisfied: grpcio<2.0,>=1.24.3 in /usr/local/lib/python3.11/dist-packages (from tensorflow) (1.71.0)\n",
            "Requirement already satisfied: tensorboard<2.19,>=2.18 in /usr/local/lib/python3.11/dist-packages (from tensorflow) (2.18.0)\n",
            "Requirement already satisfied: keras>=3.5.0 in /usr/local/lib/python3.11/dist-packages (from tensorflow) (3.8.0)\n",
            "Requirement already satisfied: numpy<2.1.0,>=1.26.0 in /usr/local/lib/python3.11/dist-packages (from tensorflow) (2.0.2)\n",
            "Requirement already satisfied: h5py>=3.11.0 in /usr/local/lib/python3.11/dist-packages (from tensorflow) (3.13.0)\n",
            "Requirement already satisfied: ml-dtypes<0.5.0,>=0.4.0 in /usr/local/lib/python3.11/dist-packages (from tensorflow) (0.4.1)\n",
            "Requirement already satisfied: tensorflow-io-gcs-filesystem>=0.23.1 in /usr/local/lib/python3.11/dist-packages (from tensorflow) (0.37.1)\n",
            "Requirement already satisfied: wheel<1.0,>=0.23.0 in /usr/local/lib/python3.11/dist-packages (from astunparse>=1.6.0->tensorflow) (0.45.1)\n",
            "Requirement already satisfied: rich in /usr/local/lib/python3.11/dist-packages (from keras>=3.5.0->tensorflow) (13.9.4)\n",
            "Requirement already satisfied: namex in /usr/local/lib/python3.11/dist-packages (from keras>=3.5.0->tensorflow) (0.0.8)\n",
            "Requirement already satisfied: optree in /usr/local/lib/python3.11/dist-packages (from keras>=3.5.0->tensorflow) (0.14.1)\n",
            "Requirement already satisfied: charset-normalizer<4,>=2 in /usr/local/lib/python3.11/dist-packages (from requests<3,>=2.21.0->tensorflow) (3.4.1)\n",
            "Requirement already satisfied: idna<4,>=2.5 in /usr/local/lib/python3.11/dist-packages (from requests<3,>=2.21.0->tensorflow) (3.10)\n",
            "Requirement already satisfied: urllib3<3,>=1.21.1 in /usr/local/lib/python3.11/dist-packages (from requests<3,>=2.21.0->tensorflow) (2.3.0)\n",
            "Requirement already satisfied: certifi>=2017.4.17 in /usr/local/lib/python3.11/dist-packages (from requests<3,>=2.21.0->tensorflow) (2025.1.31)\n",
            "Requirement already satisfied: markdown>=2.6.8 in /usr/local/lib/python3.11/dist-packages (from tensorboard<2.19,>=2.18->tensorflow) (3.7)\n",
            "Requirement already satisfied: tensorboard-data-server<0.8.0,>=0.7.0 in /usr/local/lib/python3.11/dist-packages (from tensorboard<2.19,>=2.18->tensorflow) (0.7.2)\n",
            "Requirement already satisfied: werkzeug>=1.0.1 in /usr/local/lib/python3.11/dist-packages (from tensorboard<2.19,>=2.18->tensorflow) (3.1.3)\n",
            "Requirement already satisfied: MarkupSafe>=2.1.1 in /usr/local/lib/python3.11/dist-packages (from werkzeug>=1.0.1->tensorboard<2.19,>=2.18->tensorflow) (3.0.2)\n",
            "Requirement already satisfied: markdown-it-py>=2.2.0 in /usr/local/lib/python3.11/dist-packages (from rich->keras>=3.5.0->tensorflow) (3.0.0)\n",
            "Requirement already satisfied: pygments<3.0.0,>=2.13.0 in /usr/local/lib/python3.11/dist-packages (from rich->keras>=3.5.0->tensorflow) (2.18.0)\n",
            "Requirement already satisfied: mdurl~=0.1 in /usr/local/lib/python3.11/dist-packages (from markdown-it-py>=2.2.0->rich->keras>=3.5.0->tensorflow) (0.1.2)\n",
            "Requirement already satisfied: keras in /usr/local/lib/python3.11/dist-packages (3.8.0)\n",
            "Requirement already satisfied: absl-py in /usr/local/lib/python3.11/dist-packages (from keras) (1.4.0)\n",
            "Requirement already satisfied: numpy in /usr/local/lib/python3.11/dist-packages (from keras) (2.0.2)\n",
            "Requirement already satisfied: rich in /usr/local/lib/python3.11/dist-packages (from keras) (13.9.4)\n",
            "Requirement already satisfied: namex in /usr/local/lib/python3.11/dist-packages (from keras) (0.0.8)\n",
            "Requirement already satisfied: h5py in /usr/local/lib/python3.11/dist-packages (from keras) (3.13.0)\n",
            "Requirement already satisfied: optree in /usr/local/lib/python3.11/dist-packages (from keras) (0.14.1)\n",
            "Requirement already satisfied: ml-dtypes in /usr/local/lib/python3.11/dist-packages (from keras) (0.4.1)\n",
            "Requirement already satisfied: packaging in /usr/local/lib/python3.11/dist-packages (from keras) (24.2)\n",
            "Requirement already satisfied: typing-extensions>=4.5.0 in /usr/local/lib/python3.11/dist-packages (from optree->keras) (4.13.0)\n",
            "Requirement already satisfied: markdown-it-py>=2.2.0 in /usr/local/lib/python3.11/dist-packages (from rich->keras) (3.0.0)\n",
            "Requirement already satisfied: pygments<3.0.0,>=2.13.0 in /usr/local/lib/python3.11/dist-packages (from rich->keras) (2.18.0)\n",
            "Requirement already satisfied: mdurl~=0.1 in /usr/local/lib/python3.11/dist-packages (from markdown-it-py>=2.2.0->rich->keras) (0.1.2)\n"
          ]
        }
      ]
    },
    {
      "cell_type": "code",
      "source": [
        "# Шаг 1. Подготовить обучающую выборку\n",
        "def prepare_training_set(q, n, k):\n",
        "    X = np.random.rand(q, n)  # Обучающие векторы\n",
        "    D = np.random.randint(0, 2, (q, k))  # Векторы желаемых значений выходов персептрона\n",
        "    return X, D\n",
        "\n",
        "# Пример использования алгоритма с Keras\n",
        "q = 100  # Количество обучающих векторов\n",
        "n = 3  # Количество входов\n",
        "k = 2  # Количество нейронов\n",
        "epochs = 100  # Количество эпох\n",
        "threshold = 0.1  # Порог ошибки для останова обучения\n",
        "\n",
        "X, D = prepare_training_set(q, n, k)\n",
        "\n",
        "# Создание модели персептрона с использованием Keras\n",
        "model = Sequential()\n",
        "model.add(Dense(k, input_dim=n, activation='sigmoid'))\n",
        "\n",
        "# Компиляция модели\n",
        "model.compile(loss='mean_squared_error', optimizer='sgd')\n",
        "\n",
        "# Обучение модели\n",
        "history = model.fit(X, D, epochs=epochs, verbose=0)\n",
        "\n",
        "# Определение причины останова обучения\n",
        "final_epoch = len(history.history['loss'])\n",
        "if history.history['loss'][-1] < threshold:\n",
        "    stop_reason = \"Обучение завершено досрочно, так как ошибка стала меньше порогового значения.\"\n",
        "else:\n",
        "    stop_reason = \"Обучение завершено после достижения максимального количества эпох.\"\n",
        "\n",
        "# Тестирование модели и вывод результатов\n",
        "predictions = model.predict(X)\n",
        "print(\"Predictions:\")\n",
        "print(predictions)\n",
        "print(stop_reason)"
      ],
      "metadata": {
        "colab": {
          "base_uri": "https://localhost:8080/"
        },
        "id": "hMnJRXalsywP",
        "outputId": "9049bd9f-0bdf-44ff-e707-7e9b9a8dead2"
      },
      "execution_count": 29,
      "outputs": [
        {
          "output_type": "stream",
          "name": "stdout",
          "text": [
            "\u001b[1m4/4\u001b[0m \u001b[32m━━━━━━━━━━━━━━━━━━━━\u001b[0m\u001b[37m\u001b[0m \u001b[1m0s\u001b[0m 14ms/step\n",
            "Predictions:\n",
            "[[0.46094176 0.5231327 ]\n",
            " [0.32582286 0.60179394]\n",
            " [0.42210585 0.4930038 ]\n",
            " [0.42615354 0.5235824 ]\n",
            " [0.39255127 0.6133817 ]\n",
            " [0.5211703  0.41276115]\n",
            " [0.37259308 0.6292958 ]\n",
            " [0.38468513 0.60787046]\n",
            " [0.3759055  0.5968068 ]\n",
            " [0.39951274 0.5619012 ]\n",
            " [0.42351064 0.49388278]\n",
            " [0.31013358 0.6508396 ]\n",
            " [0.3854356  0.60684264]\n",
            " [0.38665667 0.5111435 ]\n",
            " [0.35741168 0.6141499 ]\n",
            " [0.5050088  0.47053224]\n",
            " [0.46359944 0.4598321 ]\n",
            " [0.41852692 0.483938  ]\n",
            " [0.50198877 0.5005281 ]\n",
            " [0.42396906 0.46892342]\n",
            " [0.50063205 0.41578752]\n",
            " [0.4864701  0.41262594]\n",
            " [0.42825934 0.55055356]\n",
            " [0.3211965  0.5543542 ]\n",
            " [0.37814796 0.5313806 ]\n",
            " [0.44966373 0.418601  ]\n",
            " [0.39259592 0.48537418]\n",
            " [0.40843004 0.5639297 ]\n",
            " [0.3610813  0.49941665]\n",
            " [0.35393712 0.6012803 ]\n",
            " [0.4754112  0.3994543 ]\n",
            " [0.39792553 0.6110706 ]\n",
            " [0.39838287 0.5534105 ]\n",
            " [0.3053078  0.6509017 ]\n",
            " [0.34032375 0.6362909 ]\n",
            " [0.280388   0.62582576]\n",
            " [0.44809037 0.5035584 ]\n",
            " [0.38880658 0.49049404]\n",
            " [0.3816347  0.5006199 ]\n",
            " [0.43498582 0.49412084]\n",
            " [0.40930817 0.5003351 ]\n",
            " [0.42647702 0.47858727]\n",
            " [0.42547703 0.42865145]\n",
            " [0.28908733 0.6106462 ]\n",
            " [0.4373832  0.44663134]\n",
            " [0.39507335 0.59059745]\n",
            " [0.47559255 0.5057657 ]\n",
            " [0.47155958 0.536356  ]\n",
            " [0.29881248 0.6477975 ]\n",
            " [0.38135853 0.52017957]\n",
            " [0.43972236 0.46810362]\n",
            " [0.3233298  0.5910924 ]\n",
            " [0.48375824 0.42338482]\n",
            " [0.47754285 0.42451873]\n",
            " [0.45485058 0.4850356 ]\n",
            " [0.48002762 0.42301926]\n",
            " [0.3834522  0.5357412 ]\n",
            " [0.45184752 0.52748346]\n",
            " [0.5106963  0.4626513 ]\n",
            " [0.38088122 0.48607484]\n",
            " [0.36566326 0.5229551 ]\n",
            " [0.45918027 0.46616694]\n",
            " [0.4103796  0.4535982 ]\n",
            " [0.43916613 0.47341144]\n",
            " [0.44726557 0.4439272 ]\n",
            " [0.27841976 0.72660005]\n",
            " [0.39725    0.54474044]\n",
            " [0.48253798 0.39407772]\n",
            " [0.43514055 0.5265677 ]\n",
            " [0.4467475  0.5485506 ]\n",
            " [0.48267072 0.4889137 ]\n",
            " [0.4444051  0.56662047]\n",
            " [0.49178097 0.3907076 ]\n",
            " [0.33024487 0.63622   ]\n",
            " [0.34026998 0.6578828 ]\n",
            " [0.37400898 0.5350773 ]\n",
            " [0.48137504 0.51969486]\n",
            " [0.45713496 0.40316504]\n",
            " [0.4961318  0.44572127]\n",
            " [0.39232096 0.59831005]\n",
            " [0.40118563 0.5118341 ]\n",
            " [0.34981593 0.64184386]\n",
            " [0.30680948 0.6457774 ]\n",
            " [0.43507546 0.57248867]\n",
            " [0.47502917 0.5096378 ]\n",
            " [0.45079443 0.4328692 ]\n",
            " [0.43916306 0.44030526]\n",
            " [0.33382183 0.6181779 ]\n",
            " [0.40566278 0.54783744]\n",
            " [0.32799697 0.59472597]\n",
            " [0.29876694 0.6388505 ]\n",
            " [0.35387802 0.5846794 ]\n",
            " [0.43563363 0.5454657 ]\n",
            " [0.3587647  0.5096065 ]\n",
            " [0.34434786 0.6263382 ]\n",
            " [0.35450384 0.6476185 ]\n",
            " [0.32873172 0.6018195 ]\n",
            " [0.4647409  0.52643   ]\n",
            " [0.37072223 0.5795085 ]\n",
            " [0.49280506 0.3733078 ]]\n",
            "Обучение завершено после достижения максимального количества эпох.\n"
          ]
        }
      ]
    }
  ]
}