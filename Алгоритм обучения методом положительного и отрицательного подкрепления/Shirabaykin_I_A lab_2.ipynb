{
  "nbformat": 4,
  "nbformat_minor": 0,
  "metadata": {
    "colab": {
      "provenance": []
    },
    "kernelspec": {
      "name": "python3",
      "display_name": "Python 3"
    },
    "language_info": {
      "name": "python"
    }
  },
  "cells": [
    {
      "cell_type": "code",
      "source": [
        "!pip install tensorflow\n",
        "!pip install keras"
      ],
      "metadata": {
        "colab": {
          "base_uri": "https://localhost:8080/"
        },
        "collapsed": true,
        "id": "-Zrp315vpbZo",
        "outputId": "8d1f91a5-0e47-4c9f-a756-62d6af127e72"
      },
      "execution_count": 16,
      "outputs": [
        {
          "output_type": "stream",
          "name": "stdout",
          "text": [
            "Requirement already satisfied: tensorflow in /usr/local/lib/python3.11/dist-packages (2.18.0)\n",
            "Requirement already satisfied: absl-py>=1.0.0 in /usr/local/lib/python3.11/dist-packages (from tensorflow) (1.4.0)\n",
            "Requirement already satisfied: astunparse>=1.6.0 in /usr/local/lib/python3.11/dist-packages (from tensorflow) (1.6.3)\n",
            "Requirement already satisfied: flatbuffers>=24.3.25 in /usr/local/lib/python3.11/dist-packages (from tensorflow) (25.2.10)\n",
            "Requirement already satisfied: gast!=0.5.0,!=0.5.1,!=0.5.2,>=0.2.1 in /usr/local/lib/python3.11/dist-packages (from tensorflow) (0.6.0)\n",
            "Requirement already satisfied: google-pasta>=0.1.1 in /usr/local/lib/python3.11/dist-packages (from tensorflow) (0.2.0)\n",
            "Requirement already satisfied: libclang>=13.0.0 in /usr/local/lib/python3.11/dist-packages (from tensorflow) (18.1.1)\n",
            "Requirement already satisfied: opt-einsum>=2.3.2 in /usr/local/lib/python3.11/dist-packages (from tensorflow) (3.4.0)\n",
            "Requirement already satisfied: packaging in /usr/local/lib/python3.11/dist-packages (from tensorflow) (24.2)\n",
            "Requirement already satisfied: protobuf!=4.21.0,!=4.21.1,!=4.21.2,!=4.21.3,!=4.21.4,!=4.21.5,<6.0.0dev,>=3.20.3 in /usr/local/lib/python3.11/dist-packages (from tensorflow) (5.29.4)\n",
            "Requirement already satisfied: requests<3,>=2.21.0 in /usr/local/lib/python3.11/dist-packages (from tensorflow) (2.32.3)\n",
            "Requirement already satisfied: setuptools in /usr/local/lib/python3.11/dist-packages (from tensorflow) (75.2.0)\n",
            "Requirement already satisfied: six>=1.12.0 in /usr/local/lib/python3.11/dist-packages (from tensorflow) (1.17.0)\n",
            "Requirement already satisfied: termcolor>=1.1.0 in /usr/local/lib/python3.11/dist-packages (from tensorflow) (3.0.0)\n",
            "Requirement already satisfied: typing-extensions>=3.6.6 in /usr/local/lib/python3.11/dist-packages (from tensorflow) (4.13.0)\n",
            "Requirement already satisfied: wrapt>=1.11.0 in /usr/local/lib/python3.11/dist-packages (from tensorflow) (1.17.2)\n",
            "Requirement already satisfied: grpcio<2.0,>=1.24.3 in /usr/local/lib/python3.11/dist-packages (from tensorflow) (1.71.0)\n",
            "Requirement already satisfied: tensorboard<2.19,>=2.18 in /usr/local/lib/python3.11/dist-packages (from tensorflow) (2.18.0)\n",
            "Requirement already satisfied: keras>=3.5.0 in /usr/local/lib/python3.11/dist-packages (from tensorflow) (3.8.0)\n",
            "Requirement already satisfied: numpy<2.1.0,>=1.26.0 in /usr/local/lib/python3.11/dist-packages (from tensorflow) (2.0.2)\n",
            "Requirement already satisfied: h5py>=3.11.0 in /usr/local/lib/python3.11/dist-packages (from tensorflow) (3.13.0)\n",
            "Requirement already satisfied: ml-dtypes<0.5.0,>=0.4.0 in /usr/local/lib/python3.11/dist-packages (from tensorflow) (0.4.1)\n",
            "Requirement already satisfied: tensorflow-io-gcs-filesystem>=0.23.1 in /usr/local/lib/python3.11/dist-packages (from tensorflow) (0.37.1)\n",
            "Requirement already satisfied: wheel<1.0,>=0.23.0 in /usr/local/lib/python3.11/dist-packages (from astunparse>=1.6.0->tensorflow) (0.45.1)\n",
            "Requirement already satisfied: rich in /usr/local/lib/python3.11/dist-packages (from keras>=3.5.0->tensorflow) (13.9.4)\n",
            "Requirement already satisfied: namex in /usr/local/lib/python3.11/dist-packages (from keras>=3.5.0->tensorflow) (0.0.8)\n",
            "Requirement already satisfied: optree in /usr/local/lib/python3.11/dist-packages (from keras>=3.5.0->tensorflow) (0.14.1)\n",
            "Requirement already satisfied: charset-normalizer<4,>=2 in /usr/local/lib/python3.11/dist-packages (from requests<3,>=2.21.0->tensorflow) (3.4.1)\n",
            "Requirement already satisfied: idna<4,>=2.5 in /usr/local/lib/python3.11/dist-packages (from requests<3,>=2.21.0->tensorflow) (3.10)\n",
            "Requirement already satisfied: urllib3<3,>=1.21.1 in /usr/local/lib/python3.11/dist-packages (from requests<3,>=2.21.0->tensorflow) (2.3.0)\n",
            "Requirement already satisfied: certifi>=2017.4.17 in /usr/local/lib/python3.11/dist-packages (from requests<3,>=2.21.0->tensorflow) (2025.1.31)\n",
            "Requirement already satisfied: markdown>=2.6.8 in /usr/local/lib/python3.11/dist-packages (from tensorboard<2.19,>=2.18->tensorflow) (3.7)\n",
            "Requirement already satisfied: tensorboard-data-server<0.8.0,>=0.7.0 in /usr/local/lib/python3.11/dist-packages (from tensorboard<2.19,>=2.18->tensorflow) (0.7.2)\n",
            "Requirement already satisfied: werkzeug>=1.0.1 in /usr/local/lib/python3.11/dist-packages (from tensorboard<2.19,>=2.18->tensorflow) (3.1.3)\n",
            "Requirement already satisfied: MarkupSafe>=2.1.1 in /usr/local/lib/python3.11/dist-packages (from werkzeug>=1.0.1->tensorboard<2.19,>=2.18->tensorflow) (3.0.2)\n",
            "Requirement already satisfied: markdown-it-py>=2.2.0 in /usr/local/lib/python3.11/dist-packages (from rich->keras>=3.5.0->tensorflow) (3.0.0)\n",
            "Requirement already satisfied: pygments<3.0.0,>=2.13.0 in /usr/local/lib/python3.11/dist-packages (from rich->keras>=3.5.0->tensorflow) (2.18.0)\n",
            "Requirement already satisfied: mdurl~=0.1 in /usr/local/lib/python3.11/dist-packages (from markdown-it-py>=2.2.0->rich->keras>=3.5.0->tensorflow) (0.1.2)\n",
            "Requirement already satisfied: keras in /usr/local/lib/python3.11/dist-packages (3.8.0)\n",
            "Requirement already satisfied: absl-py in /usr/local/lib/python3.11/dist-packages (from keras) (1.4.0)\n",
            "Requirement already satisfied: numpy in /usr/local/lib/python3.11/dist-packages (from keras) (2.0.2)\n",
            "Requirement already satisfied: rich in /usr/local/lib/python3.11/dist-packages (from keras) (13.9.4)\n",
            "Requirement already satisfied: namex in /usr/local/lib/python3.11/dist-packages (from keras) (0.0.8)\n",
            "Requirement already satisfied: h5py in /usr/local/lib/python3.11/dist-packages (from keras) (3.13.0)\n",
            "Requirement already satisfied: optree in /usr/local/lib/python3.11/dist-packages (from keras) (0.14.1)\n",
            "Requirement already satisfied: ml-dtypes in /usr/local/lib/python3.11/dist-packages (from keras) (0.4.1)\n",
            "Requirement already satisfied: packaging in /usr/local/lib/python3.11/dist-packages (from keras) (24.2)\n",
            "Requirement already satisfied: typing-extensions>=4.5.0 in /usr/local/lib/python3.11/dist-packages (from optree->keras) (4.13.0)\n",
            "Requirement already satisfied: markdown-it-py>=2.2.0 in /usr/local/lib/python3.11/dist-packages (from rich->keras) (3.0.0)\n",
            "Requirement already satisfied: pygments<3.0.0,>=2.13.0 in /usr/local/lib/python3.11/dist-packages (from rich->keras) (2.18.0)\n",
            "Requirement already satisfied: mdurl~=0.1 in /usr/local/lib/python3.11/dist-packages (from markdown-it-py>=2.2.0->rich->keras) (0.1.2)\n"
          ]
        }
      ]
    },
    {
      "cell_type": "code",
      "execution_count": 17,
      "metadata": {
        "id": "RoXC3RjrmZv5"
      },
      "outputs": [],
      "source": [
        "import random\n",
        "import numpy as np\n",
        "from tensorflow import keras\n",
        "from keras.layers import Dense\n",
        "from keras.models import Sequential, load_model"
      ]
    },
    {
      "cell_type": "markdown",
      "source": [
        "Шаг 1. Генерация случайных значений для синаптических весов и порога чувствительности нейронов"
      ],
      "metadata": {
        "id": "3rX_iEGcmbQQ"
      }
    },
    {
      "cell_type": "code",
      "source": [
        "def initialize_weights(n, k):\n",
        "    weights = [[random.uniform(-0.5, 0.5) for _ in range(k)] for _ in range(n)]\n",
        "    threshold = random.uniform(-0.5, 0.5)\n",
        "    return weights, threshold"
      ],
      "metadata": {
        "id": "QohCAEvWmd3r"
      },
      "execution_count": 18,
      "outputs": []
    },
    {
      "cell_type": "markdown",
      "source": [
        "Шаг 2. Подача входного образа на входы персептрона"
      ],
      "metadata": {
        "id": "Y6FZ-uz2miSx"
      }
    },
    {
      "cell_type": "code",
      "source": [
        "def input_pattern(n):\n",
        "    return [random.choice([0, 1]) for _ in range(n)]"
      ],
      "metadata": {
        "id": "3tWgM0cYmkIa"
      },
      "execution_count": 19,
      "outputs": []
    },
    {
      "cell_type": "markdown",
      "source": [
        "Шаг 3. Вычисление взвешенной суммы входных сигналов и получение выходного сигнала"
      ],
      "metadata": {
        "id": "eSzbzVxjmljx"
      }
    },
    {
      "cell_type": "code",
      "source": [
        "def calculate_output(weights, inputs, threshold):\n",
        "    outputs = []\n",
        "    for j in range(len(weights[0])):\n",
        "        net = sum(weights[i][j] * inputs[i] for i in range(len(inputs))) - threshold\n",
        "        outputs.append(1 if net > 0 else 0)\n",
        "    return outputs"
      ],
      "metadata": {
        "id": "YP3wVTPwmoKe"
      },
      "execution_count": 20,
      "outputs": []
    },
    {
      "cell_type": "markdown",
      "source": [
        "Шаг 4а. Проверка соответствия полученного выходного сигнала желаемому"
      ],
      "metadata": {
        "id": "qxtrxJPimpgL"
      }
    },
    {
      "cell_type": "code",
      "source": [
        "def check_output(outputs, desired_outputs):\n",
        "    return all(outputs[i] == desired_outputs[i] for i in range(len(outputs)))\n"
      ],
      "metadata": {
        "id": "vTebI708mrrj"
      },
      "execution_count": 21,
      "outputs": []
    },
    {
      "cell_type": "markdown",
      "source": [
        "Шаги 4б, 4в. Коррекция весов активных входов при неправильном выходном сигнале"
      ],
      "metadata": {
        "id": "dtVV4IgnmtXV"
      }
    },
    {
      "cell_type": "code",
      "source": [
        "def adjust_weights(weights, inputs, outputs, desired_outputs):\n",
        "    for j in range(len(weights[0])):\n",
        "        if outputs[j] == 0 and desired_outputs[j] == 1:  # Если выходной сигнал неправильный и равен нулю\n",
        "            for i in range(len(inputs)):\n",
        "                weights[i][j] += inputs[i]  # Увеличить веса активных входов\n",
        "        elif outputs[j] == 1 and desired_outputs[j] == 0:  # Если выходной сигнал неправильный и равен единице\n",
        "            for i in range(len(inputs)):\n",
        "                weights[i][j] -= inputs[i]  # Уменьшить веса активных входов\n",
        "    return weights"
      ],
      "metadata": {
        "id": "s_cMfJ2mmyUe"
      },
      "execution_count": 22,
      "outputs": []
    },
    {
      "cell_type": "markdown",
      "source": [
        "Пример использования алгоритма"
      ],
      "metadata": {
        "id": "4NiWJ849myuc"
      }
    },
    {
      "cell_type": "code",
      "source": [
        "n = 3  # Количество входов\n",
        "k = 2  # Количество нейронов\n",
        "\n",
        "weights, threshold = initialize_weights(n, k)\n",
        "inputs = input_pattern(n)\n",
        "desired_outputs = [1, 0]  # Желаемые выходные сигналы\n",
        "\n",
        "outputs = calculate_output(weights, inputs, threshold)\n",
        "\n",
        "while not check_output(outputs, desired_outputs):\n",
        "    weights = adjust_weights(weights, inputs, outputs, desired_outputs)\n",
        "    outputs = calculate_output(weights, inputs, threshold)\n",
        "\n",
        "print(\"Окончательные веса:\", weights)\n",
        "print(\"Выходной сигнал:\", outputs)"
      ],
      "metadata": {
        "colab": {
          "base_uri": "https://localhost:8080/"
        },
        "id": "FxOK-lRlm0mL",
        "outputId": "da71c5d2-f5da-48f5-ca29-f95766abe499"
      },
      "execution_count": 23,
      "outputs": [
        {
          "output_type": "stream",
          "name": "stdout",
          "text": [
            "Окончательные веса: [[-0.11161741559131033, -0.08828183445340909], [0.9318212328187484, 0.2215676355803975], [0.981655049106177, -0.41432986661140114]]\n",
            "Выходной сигнал: [1, 0]\n"
          ]
        }
      ]
    },
    {
      "cell_type": "markdown",
      "source": [
        "Реальное обучение персептрона с использованием Keras"
      ],
      "metadata": {
        "id": "cpxqp59EpXpl"
      }
    },
    {
      "cell_type": "code",
      "source": [
        "# Пример данных для обучения\n",
        "# Входные данные\n",
        "X = np.array([[0, 0], [0, 1], [1, 0], [1, 1]])\n",
        "# Желаемые выходные данные\n",
        "y = np.array([[0], [1], [1], [0]])  # Пример для XOR\n",
        "\n",
        "# Создание модели персептрона\n",
        "model = Sequential()\n",
        "model.add(Dense(1, input_dim=2, activation='sigmoid'))\n",
        "\n",
        "# Компиляция модели\n",
        "model.compile(loss='mean_squared_error', optimizer='sgd')\n",
        "\n",
        "# Обучение модели\n",
        "model.fit(X, y, epochs=1000, verbose=0)\n",
        "\n",
        "# Тестирование модели\n",
        "predictions = model.predict(X)\n",
        "print(\"Predictions:\")\n",
        "print(predictions)"
      ],
      "metadata": {
        "colab": {
          "base_uri": "https://localhost:8080/"
        },
        "id": "5-WQG62cpYud",
        "outputId": "add8514f-2cf5-4dbf-c309-74eed8a5038b"
      },
      "execution_count": 24,
      "outputs": [
        {
          "output_type": "stream",
          "name": "stderr",
          "text": [
            "/usr/local/lib/python3.11/dist-packages/keras/src/layers/core/dense.py:87: UserWarning: Do not pass an `input_shape`/`input_dim` argument to a layer. When using Sequential models, prefer using an `Input(shape)` object as the first layer in the model instead.\n",
            "  super().__init__(activity_regularizer=activity_regularizer, **kwargs)\n"
          ]
        },
        {
          "output_type": "stream",
          "name": "stdout",
          "text": [
            "\u001b[1m1/1\u001b[0m \u001b[32m━━━━━━━━━━━━━━━━━━━━\u001b[0m\u001b[37m\u001b[0m \u001b[1m0s\u001b[0m 58ms/step\n",
            "Predictions:\n",
            "[[0.44451362]\n",
            " [0.3144818 ]\n",
            " [0.6520626 ]\n",
            " [0.5179255 ]]\n"
          ]
        }
      ]
    }
  ]
}